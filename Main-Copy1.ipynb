{
 "cells": [
  {
   "cell_type": "code",
   "execution_count": 1,
   "id": "f073f140",
   "metadata": {},
   "outputs": [],
   "source": [
    "# Zemberek'i kullanabillmek için ilk önce java kütüphenelerini kullanmamızı sağlayan kütüphaneyi ekleyelim\n",
    "import jpype\n",
    "from jpype import JClass"
   ]
  },
  {
   "cell_type": "code",
   "execution_count": 2,
   "id": "111c743a",
   "metadata": {},
   "outputs": [],
   "source": [
    "# Zembrek'in jar dosyalarını okuyalım ve hangi modüller var bakalım\n",
    "import zipfile\n",
    "\n",
    "def read_jar(jar_file):\n",
    "    zf = zipfile.ZipFile(jar_file, 'r')\n",
    "    try:\n",
    "        lst = zf.infolist()\n",
    "        for zi in lst:\n",
    "            fn = zi.filename \n",
    "            # print(fn)\n",
    "    finally:\n",
    "        zf.close()\n",
    "        \n",
    "read_jar(\"zemberek-full.jar\")"
   ]
  },
  {
   "cell_type": "code",
   "execution_count": 3,
   "id": "23297faf",
   "metadata": {},
   "outputs": [
    {
     "name": "stdout",
     "output_type": "stream",
     "text": [
      "ok\n"
     ]
    }
   ],
   "source": [
    "# Zembrek'i çalıştıralım\n",
    "jar = r\"C:/Users/Dilemre/Documents/GitHub/bitirme/zemberek-full.jar\" # Zemberek'in yolu\n",
    "jvmpath = r\"C:/Program Files/Java/jdk-17.0.2/bin/server/jvm.dll\" # JVM'nin yolu\n",
    "if not jpype.isJVMStarted():\n",
    "    jpype.startJVM(jvmpath=jvmpath, classpath=jar)\n",
    "    print(\"ok\")"
   ]
  },
  {
   "cell_type": "code",
   "execution_count": 4,
   "id": "d1edb584",
   "metadata": {},
   "outputs": [],
   "source": [
    "# Zemberekten gerekli kütüphaneleri import edelim\n",
    "try:\n",
    "    TurkishTokenizer = JClass('zemberek.tokenization.TurkishTokenizer')\n",
    "    Token = JClass('zemberek.tokenization.Token')\n",
    "    TurkishMorphology = JClass('zemberek.morphology.TurkishMorphology')\n",
    "    TurkishSpellChecker = JClass('zemberek.normalization.TurkishSpellChecker')\n",
    "    WordAnalysis =  JClass('zemberek.morphology.analysis.WordAnalysis')\n",
    "    TurkishSentenceExtractor = JClass('zemberek.tokenization.TurkishSentenceExtractor')\n",
    "except:\n",
    "    print(\"wrong path\")"
   ]
  },
  {
   "cell_type": "code",
   "execution_count": 5,
   "id": "9c88ebc0",
   "metadata": {},
   "outputs": [],
   "source": [
    "morphology = TurkishMorphology.createWithDefaults()\n",
    "tokenizer = TurkishTokenizer.ALL\n",
    "spell_checker = TurkishSpellChecker(morphology)\n",
    "extractor = TurkishSentenceExtractor.DEFAULT"
   ]
  },
  {
   "cell_type": "code",
   "execution_count": 6,
   "id": "5a14b3d1",
   "metadata": {},
   "outputs": [],
   "source": [
    "#Verilerimizi almak ve işlemek için gerekli kütüphaneler\n",
    "import pandas as pd\n",
    "import numpy as np\n",
    "import string"
   ]
  },
  {
   "cell_type": "code",
   "execution_count": 54,
   "id": "ea988c86",
   "metadata": {},
   "outputs": [
    {
     "data": {
      "text/html": [
       "<div>\n",
       "<style scoped>\n",
       "    .dataframe tbody tr th:only-of-type {\n",
       "        vertical-align: middle;\n",
       "    }\n",
       "\n",
       "    .dataframe tbody tr th {\n",
       "        vertical-align: top;\n",
       "    }\n",
       "\n",
       "    .dataframe thead th {\n",
       "        text-align: right;\n",
       "    }\n",
       "</style>\n",
       "<table border=\"1\" class=\"dataframe\">\n",
       "  <thead>\n",
       "    <tr style=\"text-align: right;\">\n",
       "      <th></th>\n",
       "      <th>info</th>\n",
       "      <th>title</th>\n",
       "      <th>caption</th>\n",
       "      <th>link</th>\n",
       "      <th>text</th>\n",
       "    </tr>\n",
       "  </thead>\n",
       "  <tbody>\n",
       "    <tr>\n",
       "      <th>0</th>\n",
       "      <td>19 Mart 2021, Cuma</td>\n",
       "      <td>MEHMET BARLAS</td>\n",
       "      <td>Türk siyasetinde Devlet Bahçeli bir tutarlılık...</td>\n",
       "      <td>https://www.sabah.com.tr/yazarlar/barlas/2021/...</td>\n",
       "      <td>\\n\\nDün MHP'nin Büyük Kurultay'ında Genel Başk...</td>\n",
       "    </tr>\n",
       "    <tr>\n",
       "      <th>1</th>\n",
       "      <td>18 Mart 2021, Perşembe</td>\n",
       "      <td>MEHMET BARLAS</td>\n",
       "      <td>Amerikan iç politikasında kimin kimi hedef ala...</td>\n",
       "      <td>https://www.sabah.com.tr/yazarlar/barlas/2021/...</td>\n",
       "      <td>\\n\\nAmerikan iç politikasındaki gelişmeler kes...</td>\n",
       "    </tr>\n",
       "    <tr>\n",
       "      <th>2</th>\n",
       "      <td>17 Mart 2021, Çarşamba</td>\n",
       "      <td>MEHMET BARLAS</td>\n",
       "      <td>Amerikalılar, yalancı Amerikan başkanlarını ar...</td>\n",
       "      <td>https://www.sabah.com.tr/yazarlar/barlas/2021/...</td>\n",
       "      <td>\\n\\nBugüne kadar her konuda Yunanistan'ın ve K...</td>\n",
       "    </tr>\n",
       "    <tr>\n",
       "      <th>3</th>\n",
       "      <td>16 Mart 2021, Salı</td>\n",
       "      <td>MEHMET BARLAS</td>\n",
       "      <td>Darbeler geçmişte Türkiye’nin dış politikasını...</td>\n",
       "      <td>https://www.sabah.com.tr/yazarlar/barlas/2021/...</td>\n",
       "      <td>\\n\\nMısır'la diplomatik ilişkilerin başlaması,...</td>\n",
       "    </tr>\n",
       "    <tr>\n",
       "      <th>4</th>\n",
       "      <td>15 Mart 2021, Pazartesi</td>\n",
       "      <td>MEHMET BARLAS</td>\n",
       "      <td>Müflis Yunanistan, Türkiye’ye gövde gösterisi ...</td>\n",
       "      <td>https://www.sabah.com.tr/yazarlar/barlas/2021/...</td>\n",
       "      <td>\\n\\nTabii ki hiçbir ülkeyi küçük görmemek gere...</td>\n",
       "    </tr>\n",
       "  </tbody>\n",
       "</table>\n",
       "</div>"
      ],
      "text/plain": [
       "                      info          title  \\\n",
       "0       19 Mart 2021, Cuma  MEHMET BARLAS   \n",
       "1   18 Mart 2021, Perşembe  MEHMET BARLAS   \n",
       "2   17 Mart 2021, Çarşamba  MEHMET BARLAS   \n",
       "3       16 Mart 2021, Salı  MEHMET BARLAS   \n",
       "4  15 Mart 2021, Pazartesi  MEHMET BARLAS   \n",
       "\n",
       "                                             caption  \\\n",
       "0  Türk siyasetinde Devlet Bahçeli bir tutarlılık...   \n",
       "1  Amerikan iç politikasında kimin kimi hedef ala...   \n",
       "2  Amerikalılar, yalancı Amerikan başkanlarını ar...   \n",
       "3  Darbeler geçmişte Türkiye’nin dış politikasını...   \n",
       "4  Müflis Yunanistan, Türkiye’ye gövde gösterisi ...   \n",
       "\n",
       "                                                link  \\\n",
       "0  https://www.sabah.com.tr/yazarlar/barlas/2021/...   \n",
       "1  https://www.sabah.com.tr/yazarlar/barlas/2021/...   \n",
       "2  https://www.sabah.com.tr/yazarlar/barlas/2021/...   \n",
       "3  https://www.sabah.com.tr/yazarlar/barlas/2021/...   \n",
       "4  https://www.sabah.com.tr/yazarlar/barlas/2021/...   \n",
       "\n",
       "                                                text  \n",
       "0  \\n\\nDün MHP'nin Büyük Kurultay'ında Genel Başk...  \n",
       "1  \\n\\nAmerikan iç politikasındaki gelişmeler kes...  \n",
       "2  \\n\\nBugüne kadar her konuda Yunanistan'ın ve K...  \n",
       "3  \\n\\nMısır'la diplomatik ilişkilerin başlaması,...  \n",
       "4  \\n\\nTabii ki hiçbir ülkeyi küçük görmemek gere...  "
      ]
     },
     "execution_count": 54,
     "metadata": {},
     "output_type": "execute_result"
    }
   ],
   "source": [
    "# zemberekten aldığımız stopword dosyasını kullanarak bu kelimeleri metinlerden çıkartalım \n",
    "stopwords = [x.strip() for x in open('stop-words.txt','r', encoding=\"UTF8\").read().split('\\n')]\n",
    "df = pd.read_csv(\"ndata.csv\")\n",
    "df.head()"
   ]
  },
  {
   "cell_type": "code",
   "execution_count": 10,
   "id": "e6be3a7a",
   "metadata": {},
   "outputs": [
    {
     "data": {
      "text/plain": [
       "95"
      ]
     },
     "execution_count": 10,
     "metadata": {},
     "output_type": "execute_result"
    }
   ],
   "source": [
    "#15'ten az köşe yazısına sahip yazar sayısı\n",
    "df[df.groupby('title').title.transform('count') < 15].title.unique().size"
   ]
  },
  {
   "cell_type": "code",
   "execution_count": 11,
   "id": "a29e103a",
   "metadata": {},
   "outputs": [
    {
     "data": {
      "text/plain": [
       "328"
      ]
     },
     "execution_count": 11,
     "metadata": {},
     "output_type": "execute_result"
    }
   ],
   "source": [
    "#15'ten az köşe yazısına sahip yazarların toplam köşe yazısı sayısı\n",
    "df[df.groupby('title').title.transform('count') < 15].text.size"
   ]
  },
  {
   "cell_type": "code",
   "execution_count": 12,
   "id": "bd7f6c16",
   "metadata": {
    "scrolled": true
   },
   "outputs": [
    {
     "data": {
      "text/html": [
       "<div>\n",
       "<style scoped>\n",
       "    .dataframe tbody tr th:only-of-type {\n",
       "        vertical-align: middle;\n",
       "    }\n",
       "\n",
       "    .dataframe tbody tr th {\n",
       "        vertical-align: top;\n",
       "    }\n",
       "\n",
       "    .dataframe thead th {\n",
       "        text-align: right;\n",
       "    }\n",
       "</style>\n",
       "<table border=\"1\" class=\"dataframe\">\n",
       "  <thead>\n",
       "    <tr style=\"text-align: right;\">\n",
       "      <th></th>\n",
       "      <th>info</th>\n",
       "      <th>title</th>\n",
       "      <th>caption</th>\n",
       "      <th>link</th>\n",
       "      <th>text</th>\n",
       "    </tr>\n",
       "  </thead>\n",
       "  <tbody>\n",
       "    <tr>\n",
       "      <th>0</th>\n",
       "      <td>19 Mart 2021, Cuma</td>\n",
       "      <td>MEHMET BARLAS</td>\n",
       "      <td>Türk siyasetinde Devlet Bahçeli bir tutarlılık...</td>\n",
       "      <td>https://www.sabah.com.tr/yazarlar/barlas/2021/...</td>\n",
       "      <td>\\n\\nDün MHP'nin Büyük Kurultay'ında Genel Başk...</td>\n",
       "    </tr>\n",
       "    <tr>\n",
       "      <th>1</th>\n",
       "      <td>18 Mart 2021, Perşembe</td>\n",
       "      <td>MEHMET BARLAS</td>\n",
       "      <td>Amerikan iç politikasında kimin kimi hedef ala...</td>\n",
       "      <td>https://www.sabah.com.tr/yazarlar/barlas/2021/...</td>\n",
       "      <td>\\n\\nAmerikan iç politikasındaki gelişmeler kes...</td>\n",
       "    </tr>\n",
       "    <tr>\n",
       "      <th>2</th>\n",
       "      <td>17 Mart 2021, Çarşamba</td>\n",
       "      <td>MEHMET BARLAS</td>\n",
       "      <td>Amerikalılar, yalancı Amerikan başkanlarını ar...</td>\n",
       "      <td>https://www.sabah.com.tr/yazarlar/barlas/2021/...</td>\n",
       "      <td>\\n\\nBugüne kadar her konuda Yunanistan'ın ve K...</td>\n",
       "    </tr>\n",
       "    <tr>\n",
       "      <th>3</th>\n",
       "      <td>16 Mart 2021, Salı</td>\n",
       "      <td>MEHMET BARLAS</td>\n",
       "      <td>Darbeler geçmişte Türkiye’nin dış politikasını...</td>\n",
       "      <td>https://www.sabah.com.tr/yazarlar/barlas/2021/...</td>\n",
       "      <td>\\n\\nMısır'la diplomatik ilişkilerin başlaması,...</td>\n",
       "    </tr>\n",
       "    <tr>\n",
       "      <th>4</th>\n",
       "      <td>15 Mart 2021, Pazartesi</td>\n",
       "      <td>MEHMET BARLAS</td>\n",
       "      <td>Müflis Yunanistan, Türkiye’ye gövde gösterisi ...</td>\n",
       "      <td>https://www.sabah.com.tr/yazarlar/barlas/2021/...</td>\n",
       "      <td>\\n\\nTabii ki hiçbir ülkeyi küçük görmemek gere...</td>\n",
       "    </tr>\n",
       "    <tr>\n",
       "      <th>...</th>\n",
       "      <td>...</td>\n",
       "      <td>...</td>\n",
       "      <td>...</td>\n",
       "      <td>...</td>\n",
       "      <td>...</td>\n",
       "    </tr>\n",
       "    <tr>\n",
       "      <th>2082</th>\n",
       "      <td>18 Şubat 2017, Cumartesi</td>\n",
       "      <td>ÖMER DURNA (AKDENİZ)</td>\n",
       "      <td>Takım ruhu lider yapar</td>\n",
       "      <td>https://www.sabah.com.tr/yazarlar/bolgeler/ome...</td>\n",
       "      <td>\\n\\nAntalya'nın her alanda kurtuluşu takım ruh...</td>\n",
       "    </tr>\n",
       "    <tr>\n",
       "      <th>2083</th>\n",
       "      <td>11 Şubat 2017, Cumartesi</td>\n",
       "      <td>ÖMER DURNA (AKDENİZ)</td>\n",
       "      <td>Önemli gün</td>\n",
       "      <td>https://www.sabah.com.tr/yazarlar/bolgeler/ome...</td>\n",
       "      <td>\\n\\nBugün Antalya için çok önemli bir gün.\\r\\n...</td>\n",
       "    </tr>\n",
       "    <tr>\n",
       "      <th>2084</th>\n",
       "      <td>28 Ocak 2017, Cumartesi</td>\n",
       "      <td>ÖMER DURNA (AKDENİZ)</td>\n",
       "      <td>Haydi maça</td>\n",
       "      <td>https://www.sabah.com.tr/yazarlar/bolgeler/ome...</td>\n",
       "      <td>\\n\\nAntalya'da spor ve kardeşlik adına önemli ...</td>\n",
       "    </tr>\n",
       "    <tr>\n",
       "      <th>2085</th>\n",
       "      <td>21 Ocak 2017, Cumartesi</td>\n",
       "      <td>ÖMER DURNA (AKDENİZ)</td>\n",
       "      <td>Laf-ı güzaf</td>\n",
       "      <td>https://www.sabah.com.tr/yazarlar/bolgeler/ome...</td>\n",
       "      <td>\\n\\nDün bizim gazetenin manşet haberi Antalya ...</td>\n",
       "    </tr>\n",
       "    <tr>\n",
       "      <th>2086</th>\n",
       "      <td>14 Ocak 2017, Cumartesi</td>\n",
       "      <td>ÖMER DURNA (AKDENİZ)</td>\n",
       "      <td>İyi, kötü, çirkin</td>\n",
       "      <td>https://www.sabah.com.tr/yazarlar/bolgeler/ome...</td>\n",
       "      <td>\\n\\nAntalya güzellikleri ile dünyaya nam salan...</td>\n",
       "    </tr>\n",
       "  </tbody>\n",
       "</table>\n",
       "<p>2087 rows × 5 columns</p>\n",
       "</div>"
      ],
      "text/plain": [
       "                          info                 title  \\\n",
       "0           19 Mart 2021, Cuma         MEHMET BARLAS   \n",
       "1       18 Mart 2021, Perşembe         MEHMET BARLAS   \n",
       "2       17 Mart 2021, Çarşamba         MEHMET BARLAS   \n",
       "3           16 Mart 2021, Salı         MEHMET BARLAS   \n",
       "4      15 Mart 2021, Pazartesi         MEHMET BARLAS   \n",
       "...                        ...                   ...   \n",
       "2082  18 Şubat 2017, Cumartesi  ÖMER DURNA (AKDENİZ)   \n",
       "2083  11 Şubat 2017, Cumartesi  ÖMER DURNA (AKDENİZ)   \n",
       "2084   28 Ocak 2017, Cumartesi  ÖMER DURNA (AKDENİZ)   \n",
       "2085   21 Ocak 2017, Cumartesi  ÖMER DURNA (AKDENİZ)   \n",
       "2086   14 Ocak 2017, Cumartesi  ÖMER DURNA (AKDENİZ)   \n",
       "\n",
       "                                                caption  \\\n",
       "0     Türk siyasetinde Devlet Bahçeli bir tutarlılık...   \n",
       "1     Amerikan iç politikasında kimin kimi hedef ala...   \n",
       "2     Amerikalılar, yalancı Amerikan başkanlarını ar...   \n",
       "3     Darbeler geçmişte Türkiye’nin dış politikasını...   \n",
       "4     Müflis Yunanistan, Türkiye’ye gövde gösterisi ...   \n",
       "...                                                 ...   \n",
       "2082                             Takım ruhu lider yapar   \n",
       "2083                                         Önemli gün   \n",
       "2084                                         Haydi maça   \n",
       "2085                                        Laf-ı güzaf   \n",
       "2086                                  İyi, kötü, çirkin   \n",
       "\n",
       "                                                   link  \\\n",
       "0     https://www.sabah.com.tr/yazarlar/barlas/2021/...   \n",
       "1     https://www.sabah.com.tr/yazarlar/barlas/2021/...   \n",
       "2     https://www.sabah.com.tr/yazarlar/barlas/2021/...   \n",
       "3     https://www.sabah.com.tr/yazarlar/barlas/2021/...   \n",
       "4     https://www.sabah.com.tr/yazarlar/barlas/2021/...   \n",
       "...                                                 ...   \n",
       "2082  https://www.sabah.com.tr/yazarlar/bolgeler/ome...   \n",
       "2083  https://www.sabah.com.tr/yazarlar/bolgeler/ome...   \n",
       "2084  https://www.sabah.com.tr/yazarlar/bolgeler/ome...   \n",
       "2085  https://www.sabah.com.tr/yazarlar/bolgeler/ome...   \n",
       "2086  https://www.sabah.com.tr/yazarlar/bolgeler/ome...   \n",
       "\n",
       "                                                   text  \n",
       "0     \\n\\nDün MHP'nin Büyük Kurultay'ında Genel Başk...  \n",
       "1     \\n\\nAmerikan iç politikasındaki gelişmeler kes...  \n",
       "2     \\n\\nBugüne kadar her konuda Yunanistan'ın ve K...  \n",
       "3     \\n\\nMısır'la diplomatik ilişkilerin başlaması,...  \n",
       "4     \\n\\nTabii ki hiçbir ülkeyi küçük görmemek gere...  \n",
       "...                                                 ...  \n",
       "2082  \\n\\nAntalya'nın her alanda kurtuluşu takım ruh...  \n",
       "2083  \\n\\nBugün Antalya için çok önemli bir gün.\\r\\n...  \n",
       "2084  \\n\\nAntalya'da spor ve kardeşlik adına önemli ...  \n",
       "2085  \\n\\nDün bizim gazetenin manşet haberi Antalya ...  \n",
       "2086  \\n\\nAntalya güzellikleri ile dünyaya nam salan...  \n",
       "\n",
       "[2087 rows x 5 columns]"
      ]
     },
     "execution_count": 12,
     "metadata": {},
     "output_type": "execute_result"
    }
   ],
   "source": [
    "#15'ten fazla köşe yazısına sahip yazarları data DataFrame'ine alalım ve işlemlerimize buradan devam edelim\n",
    "data = df[df.groupby('title').title.transform('count') >= 15].copy()\n",
    "data = data.reset_index(drop = True)\n",
    "data"
   ]
  },
  {
   "cell_type": "code",
   "execution_count": 116,
   "id": "e874d6cf",
   "metadata": {},
   "outputs": [
    {
     "data": {
      "text/plain": [
       "(20, 20)"
      ]
     },
     "execution_count": 116,
     "metadata": {},
     "output_type": "execute_result"
    }
   ],
   "source": [
    "data[data['title'].str.contains('FERHAT ÜNLÜ')].shape"
   ]
  },
  {
   "cell_type": "code",
   "execution_count": 117,
   "id": "0809abc3",
   "metadata": {},
   "outputs": [
    {
     "data": {
      "text/plain": [
       "(17, 20)"
      ]
     },
     "execution_count": 117,
     "metadata": {},
     "output_type": "execute_result"
    }
   ],
   "source": [
    "data[data['title'].str.contains('MEHMET BARLAS')].shape"
   ]
  },
  {
   "cell_type": "code",
   "execution_count": 115,
   "id": "1491b999",
   "metadata": {},
   "outputs": [
    {
     "data": {
      "text/plain": [
       "'\\n\\nİç gündemin ana başlığı, Yargıtay Cumhuriyet Başsavcılığı\\'nın HDP\\'ye açtığı kapatma davası ise dış gündemin ana başlığı da Biden\\'ın Putin\\'e sürpriz olarak nitelendirilebilecek bir çıkışla \\'Katil\\' demesi.\\nHDP\\'ye açılan kapatma davasının, birbiriyle uyumsuz heterojen dokusu, bir başka deyişle \\'beş benzemezliği\\'yle bilinen Millet İttifakı\\'nın bileşenlerinde nasıl bir siyasi etki yaratacağı önümüzdeki dönemin tartışma konularından biri olacak.\\nİyi Parti Genel Başkanı Meral Akşener -bir turnasol kâğıdı işlevi gören- İmamoğlu\\'nun 8 Mart tweetine parti tabanının, hatta yöneticilerinin istediği tarzda bir tepki göstermedi. Akşener, henüz kapatma davasıyla ilgili herhangi bir açıklama yapmış da değil, hatta bu konuda gazetecilerin kendisine yönelttiği soruları görmezden bile geldi.\\nHer siyasi parti kapatma davası gibi HDP\\'ye kapatma davasının da siyasi sonuçları olacağı muhakkak. Bu olası siyasi sonuçlarla ilgili en önemli soru şu: HDP\\'nin aldığı yüzde 8 ya da 10 oy nereye gidecek? Bu sorunun en akla yakın cevabı, şayet temelli bir kapatma söz konusu olur ve HDP tabanı oy verecek bir parti bulamazsa oyların kâhir ekseriyetinin CHP\\'ye kayacağı. Bunun siyasi laboratuvar deneyini 2019 yerel seçimlerinden İstanbul ve Ankara\\'dan başlayarak büyükşehirlerde gördük.\\nÖte yandan Deva ve Gelecek partileri de en azından HDP tabanında şayet varsa mütedeyyin oylara talip olduklarını göstermek için kapatma davasına tepki gösteren açıklamalar yaptılar.\\nMillet İttifakı\\'ndaki bu gelişmeler Cumhur İttifakı\\'nı doğrudan ilgilendirmiyor. Burada Cumhur İttifakı\\'nı 2023 sürecine doğru ilerlerken ilgilendiren temel mesele, HDP\\'ye açılan kapatma davasıyla ilgili İyi Parti yönetiminin parti tabanının beklediği tepkiyi vermemesi durumunda İyi Parti oylarının ne olacağı. Onu da davanın sonucunda şayet HDP kapatılırsa takip etmek gerekecek. İyi Parti tabanındaki, MHP ve giderek Cumhur İttifakı\\'yla bu konuda siyasal yaklaşım farklılığı olmayan kesimlerin oyu alınabilecek mi? Yakın geleceğin önemli siyasi tartışma konularından biri olacak.\\nNATO\\'NUN RUHUNU CANLANDIRMAYA ÇALIŞIYOR\\nGelelim ABD Başkanı Joe Biden\\'ın sürpriz açıklamasına… Açıklamanın yansımalarını ve bundan sonra dışarıda ne tür gelişmeler yaşanabileceğini değerlendirmek için de Biden\\'ın neden bu kadar sert konuştuğunu anlamak gerekiyor. Putin\\'e ve onun şahsında Rus devletine \\'katil\\' dedi. Çok ağır bir nitelendirme. Biden\\'ın, sırf o bir türlü tam ispatlanamayan Rusya\\'nın 2016 seçimlerine Trump lehine müdahale ettiği iddialarını gündeme getirmek suretiyle içeride Demokratik Parti\\'nin tabanını tahkim etmek ve Trump\\'ı zor duruma sokmak için Rusya\\'ya kılıç çekmesi mantıklı değil. Tek sebep bu olamaz. Belli ki Biden, bu açıklamalarla Rusya\\'yı iyice karşısında konumlandırarak hem Avrupa Birliği\\'nin Moskova ile arasına mesafe koymak istiyor, hem de eğer mümkünse NATO\\'nun ruhunu yeniden canlandırmak istiyor, ki bu artık biraz zor.\\nBiden, NATO\\'nun askeri olarak ikinci büyük ülkesinin, bizim, Suriye sahasından başlayarak ABD ile anlaşmazlık konularını çözmeden NATO\\'yu nasıl yeniden güçlü kılacak! Bunun için göreve geldiğinden beri en ufak bir çaba göstermediği de göz önüne alınırsa…\\nÖte yandan Biden\\'ın, Türkiye ile ilgili planı ne olursa olsun Rusya\\'yı böylesine sert bir açıklamayla karşısına alması Türkiye\\'nin NATO içinde elini güçlendiren bir gelişme. Her ne kadar S-400 alımı gibi konularda ABD bizi daha çok sıkıştıracak olsa bile…\\nÖyle ya, madem Rusya\\'nın Suriye\\'den başlayarak Ortadoğu\\'daki ve Libya ile Doğu Akdeniz\\'deki varlığı seni rahatsız ediyor o zaman NATO\\'daki müttefikini kendinden uzaklaştırma derler adama.\\nEğer uzaklaştırmaya devam ederse NATO\\'yu yeniden canlandırmak için CPR yapması bile gerekebilir. Öyle 20. yüzyılın başında Wilson dönemindeki gibi \"Biz ABD\\'yiz, dünyaya en yararlı fikirleri, yönetim biçimlerini biz ihraç ederiz\" diyerek gerilemekte olan imparatorluğu yeniden ayağa kaldırması mümkün değil Biden\\'ın. ABD her ne kadar hâlâ dünyanın ekonomik, askeri ve politik açıdan bir numaralı gücü olsa da Türkiye gibi bölgesel güçlerle anlaşmak zorunda. Ya da ABD\\'nin, NATO\\'yu yine güçlendirme ama bunu Türkiyesiz yapma planı var, o da zor ve maliyetli bir plan.\\nSonuç olarak Biden\\'ın bu açıklamayı, 2 bin kişilik o dış politika timinden habersiz yaptığı kanaatinde değilim. (Bu konudaki yazım için bkz: https://www.sabah.com.tr/yazarlar/site/ferhat-unlu/2020/09/30/iste-joe-bidenin-dis-politika-timi)\\nYani sonuçları düşünülmeden yapılmış bir açıklama değil. Sebep ve muhtemel sonuçlarıyla değerlendirilmiş bir açıklama bu.\\nTürkiye açısından bakarsak… O muhtemel sonuçların Türkiye\\'nin çok aleyhine olacağını düşünmüyorum. ABD\\'nin Rusya ile didişmesi, her ne kadar bizi bir tercih yapmaya zorlayacak olsa bile Suriye sahasından başlayarak Türkiye\\'nin eline güçlendirecektir. Ve Türkiye de dış politikada bunun fırsatlarını kollayacak. Bir başka deyişle Biden-Putin krizini fırsata çevirmeye çalışacak.\\n'"
      ]
     },
     "execution_count": 115,
     "metadata": {},
     "output_type": "execute_result"
    }
   ],
   "source": [
    "data.text[210]"
   ]
  },
  {
   "cell_type": "code",
   "execution_count": 111,
   "id": "ec23d319",
   "metadata": {},
   "outputs": [
    {
     "data": {
      "text/plain": [
       "'FERHAT ÜNLÜ'"
      ]
     },
     "execution_count": 111,
     "metadata": {},
     "output_type": "execute_result"
    }
   ],
   "source": [
    "mapping[11]"
   ]
  },
  {
   "cell_type": "code",
   "execution_count": 13,
   "id": "6e5bd466",
   "metadata": {},
   "outputs": [
    {
     "data": {
      "text/plain": [
       "109"
      ]
     },
     "execution_count": 13,
     "metadata": {},
     "output_type": "execute_result"
    }
   ],
   "source": [
    "#toplam yazar sayımız 109\n",
    "data.title.unique().size"
   ]
  },
  {
   "cell_type": "code",
   "execution_count": 14,
   "id": "78d69e6a",
   "metadata": {},
   "outputs": [
    {
     "data": {
      "text/plain": [
       "2087"
      ]
     },
     "execution_count": 14,
     "metadata": {},
     "output_type": "execute_result"
    }
   ],
   "source": [
    "# toplam köşe yazısı sayımız\n",
    "data.text.size"
   ]
  },
  {
   "cell_type": "code",
   "execution_count": 15,
   "id": "b29d1ee4",
   "metadata": {},
   "outputs": [],
   "source": [
    "#Buradaki tüm işlemler köşe yazısı bazlı yapılır\n",
    "\n",
    "def dataCleaning(text):\n",
    "    \"\"\"Satır boşluklarını kaldır, metini küçük harfe çevir, noktalama işaretlerini kaldır\"\"\"\n",
    "    text = text.replace(\"\\n\", \" \")\n",
    "    text = text.lower()\n",
    "    text = \"\".join([i for i in text if (i.isalnum() or i == \" \")])\n",
    "    return \" \".join(text.split())\n",
    "\n",
    "\n",
    "def removeStopwords(text):\n",
    "    \"\"\"Zemberek'ten aldığımız stopword kelimelerini kaldırır\"\"\"\n",
    "    for word in text:\n",
    "        if word in stopwords or word in string.whitespace:\n",
    "            text.remove(word)\n",
    "    return text\n",
    "\n",
    "\n",
    "def wordTokenize(text):\n",
    "    \"\"\"Önişlenmiş metini kelimelere ayırır ve stopword'leri kaldırır\"\"\"\n",
    "    text = text.split(\" \")\n",
    "    text = removeStopwords(text)\n",
    "    return text\n",
    "\n",
    "\n",
    "def sentTokenize(text):\n",
    "    \"\"\"Önişlenmemiş metini cümlelerine ayırır, bunişlem sırasında önişleme yapar ve stopword'leri kaldırır \"\"\"\n",
    "    sent_list = []\n",
    "    text = text.replace(\"\\\"\", \"\")\n",
    "    results: TurkishSentenceExtractor = extractor.fromDocument(jpype.JString(text))\n",
    "    for result in results:\n",
    "        result = dataCleaning(str(result))\n",
    "        result = removeStopwords(result.split(\" \"))\n",
    "        if len(result) == 0:\n",
    "            continue\n",
    "        else:\n",
    "            sent_list.append(\" \".join(result))         \n",
    "    return sent_list\n",
    "\n",
    "#### hatta unk kelime sayısı da nitelik olarak eklenmeli -yabancı kelime sayısı özniteliği-\n",
    "def lemmas(word_list):\n",
    "    \"\"\"Kelime token'larından kök tokenları oluşturur\"\"\"\n",
    "    lemma = []\n",
    "    for word in word_list:\n",
    "        result = str(morphology.analyzeAndDisambiguate(word).bestAnalysis()[0].getLemmas()[0])\n",
    "        if result == \"UNK\":\n",
    "            lemma.append(result)\n",
    "        else:\n",
    "            lemma.append(result)\n",
    "    return lemma\n",
    "\n",
    "\n",
    "def wtDist(wt):\n",
    "    \"\"\"Kelimelerin dağılımları\"\"\"\n",
    "    wt_dist = dict()\n",
    "    wt_dist.fromkeys(set(wt))\n",
    "    for i in set(wt):\n",
    "        wt_dist[i] = wt.count(i)\n",
    "    return wt_dist\n",
    "\n",
    "\n",
    "def wtLenDist(wt):\n",
    "    \"\"\"Kelimelerin harf olarak uzunluk dağılımlarını çıkarır\"\"\"\n",
    "    wt_len = [len(str(word)) for word in wt]\n",
    "    wt_len_dist = dict()\n",
    "    wt_len_dist.fromkeys(range(1, 29))\n",
    "    for i in range(0, 29):\n",
    "        wt_len_dist[i] = wt_len.count(i)\n",
    "    return wt_len_dist\n",
    "\n",
    "\n",
    "def stLenDist(st):\n",
    "    \"Cümlelerin kelime olarak uzunluk dağılımlarını çıkarır\"\n",
    "    st_len = [len(wordTokenize(sent)) for sent in st]\n",
    "    st_len_dist = dict()\n",
    "    st_len_dist.fromkeys(range(1, 29))\n",
    "    for i in range(0, 29):\n",
    "        st_len_dist[i] = st_len.count(i)\n",
    "    return st_len_dist\n",
    "\n",
    "\n",
    "def typeTokenRatio(wt):\n",
    "    \"\"\"Kelimenin toplam kelime sayısına oranı\"\"\"\n",
    "    return len(set(wt))/len((wt))\n",
    "\n",
    "def avgWtLen(wt):\n",
    "    \"\"\"Ortalama kelime uzunluğu\"\"\"\n",
    "    return sum(len(word) for word in wt)/len(wt)\n",
    "\n",
    "def avgStLen(st):\n",
    "    \"\"\"Kelime olarak ortalama cümle uzunluğu\"\"\"\n",
    "    return sum(len(wordTokenize(sent)) for sent in st)/len(st)\n",
    "\n",
    "def puncNum(txt):\n",
    "    \"\"\"Noktalama işareti sayısı\"\"\"\n",
    "    return len([x for x in txt if x in string.punctuation])\n",
    "\n",
    "def numStopwords(clean_text):\n",
    "    \"\"\"Stopword kullanma sayısı\"\"\"\n",
    "    return len([w for w in clean_text.split() if w in stopwords])\n",
    "\n",
    "def numUpper(raw_text):\n",
    "    \"\"\"Tamamı büyük harf olan kelime sayısı\"\"\"\n",
    "    p = string.punctuation + \"’\" + \"“\" + \"”\"\n",
    "    raw_text = ''.join(' ' if c in p else c for c in raw_text)\n",
    "    return len([w for w in raw_text.split() if str(w).isupper()])"
   ]
  },
  {
   "cell_type": "code",
   "execution_count": 103,
   "id": "8fe3a172",
   "metadata": {},
   "outputs": [],
   "source": [
    "data['clean_text'] = data['text'].apply(lambda x : dataCleaning(x))\n",
    "data['word_token'] = data['clean_text'].apply(lambda x : wordTokenize(x))\n",
    "data['sent_token'] = data['text'].apply(lambda x : sentTokenize(x))\n",
    "data['lemma_token'] = data['word_token'].apply(lambda x : lemmas(x))\n",
    "data['ltDist'] = data['lemma_token'].apply(lambda x : wtDist(x))\n",
    "data['wtLenDist'] = data['word_token'].apply(lambda x : wtLenDist(x))\n",
    "data['stLenDist'] = data['sent_token'].apply(lambda x : stLenDist(x))\n",
    "data['ttr'] = data['word_token'].apply(lambda x : typeTokenRatio(x))\n",
    "data['lttr'] = data['lemma_token'].apply(lambda x : typeTokenRatio(x))\n",
    "data['avgWtLen'] = data['word_token'].apply(lambda x : avgWtLen(x))\n",
    "data['avgStLen'] = data['sent_token'].apply(lambda x : avgStLen(x))\n",
    "data['puncNum'] = data['text'].apply(lambda x : puncNum(x))\n",
    "data['numStopwords'] = data['clean_text'].apply(lambda x : numStopwords(x))\n",
    "data['numUpper'] = data['text'].apply(lambda x : numUpper(x))\n",
    "\n",
    "# yazarları tam sayı olarak kodlar\n",
    "data['target'], mapping = pd.factorize(data.title)"
   ]
  },
  {
   "cell_type": "code",
   "execution_count": null,
   "id": "6fad63a7",
   "metadata": {
    "scrolled": true
   },
   "outputs": [],
   "source": [
    "data"
   ]
  },
  {
   "cell_type": "code",
   "execution_count": 18,
   "id": "12cfb134",
   "metadata": {},
   "outputs": [],
   "source": [
    "#işlenmiş veri setini kaydetme\n",
    "data.to_csv('clean_data')"
   ]
  },
  {
   "cell_type": "code",
   "execution_count": 19,
   "id": "ac954e7b",
   "metadata": {},
   "outputs": [
    {
     "data": {
      "image/png": "[encoded data removed]",
      "text/plain": [
       "<Figure size 432x288 with 1 Axes>"
      ]
     },
     "metadata": {
      "needs_background": "light"
     },
     "output_type": "display_data"
    }
   ],
   "source": [
    "#Bazı eğlenceli görselleştirmeler\n",
    "from wordcloud import WordCloud\n",
    "import matplotlib.pyplot as plt\n",
    "word_cloud = WordCloud(\n",
    "    max_font_size = 80\n",
    ").generate(\n",
    "    \" \".join(\n",
    "        \" \".join(lemma) for lemma in data[data.title == \"BERCAN TUTAR\"][\"lemma_token\"])\n",
    ")\n",
    "\n",
    "plt.imshow(word_cloud)\n",
    "plt.axis('off')\n",
    "plt.show()"
   ]
  },
  {
   "cell_type": "code",
   "execution_count": 20,
   "id": "c127ec55",
   "metadata": {},
   "outputs": [],
   "source": [
    "#Modelimiz yazarları tahin edecek, kodlanmış kısımı y'ye atıyoruz.\n",
    "y = np.array(data.target)\n",
    "#Öznitelikler x'e atılır.\n",
    "x = data.loc[:, 'text' : 'numUpper']"
   ]
  },
  {
   "cell_type": "code",
   "execution_count": 76,
   "id": "cb68c334",
   "metadata": {},
   "outputs": [],
   "source": [
    "#Verilerimizi train ve test olarak böleriz\n",
    "from sklearn.model_selection import train_test_split\n",
    "x_train, x_test, y_train, y_test = train_test_split(x, y, test_size=0.33,random_state = 42)\n",
    "x_train.reset_index(inplace=True)\n",
    "x_test.reset_index(inplace=True)"
   ]
  },
  {
   "cell_type": "code",
   "execution_count": 55,
   "id": "bf96c858",
   "metadata": {},
   "outputs": [],
   "source": [
    "from sklearn.feature_extraction.text import TfidfVectorizer, TfidfTransformer, CountVectorizer\n",
    "from sklearn.feature_extraction import DictVectorizer\n",
    "from sklearn.preprocessing import MinMaxScaler"
   ]
  },
  {
   "cell_type": "code",
   "execution_count": 78,
   "id": "f2bf00ad",
   "metadata": {},
   "outputs": [],
   "source": [
    "#train verilerimizi vektörleştirelim\n",
    "scaler = MinMaxScaler()\n",
    "normalizedLabels = scaler.fit_transform(x_train.loc[:, 'lttr':'numUpper'])\n",
    "\n",
    "#kökleri tek bir string metin (corpus) olarak birleştiririz\n",
    "train_corpus = np.array(x_train.lemma_token)\n",
    "for i in range(0, len(x_train.lemma_token)):\n",
    "    train_corpus[i] = \" \".join(x_train.lemma_token[i])\n",
    "    \n",
    "len(train_corpus)\n",
    "\n",
    "#bag of word vektörü\n",
    "count_vectorize = CountVectorizer()\n",
    "sparce_matrix = count_vectorize.fit_transform(train_corpus).toarray()\n",
    "sparce_matrix = (sparce_matrix - sparce_matrix.min())/(sparce_matrix.max() - sparce_matrix.min())\n",
    "\n",
    "# tf-idf vektörü\n",
    "tfidf_vector = TfidfVectorizer()\n",
    "tfidf_matrix = tfidf_vector.fit_transform(train_corpus).toarray()\n",
    "\n",
    "#kelime-cümle dağılım vektörleri\n",
    "dict_vector = DictVectorizer()\n",
    "wtLenDist_matrix = dict_vector.fit_transform(x_train.wtLenDist).toarray()\n",
    "stLenDist_matrix = dict_vector.fit_transform(x_train.stLenDist).toarray()\n",
    "wtLenDist_matrix = (wtLenDist_matrix - wtLenDist_matrix.min())/(wtLenDist_matrix.max() - wtLenDist_matrix.min())\n",
    "stLenDist_matrix = (stLenDist_matrix - stLenDist_matrix.min())/(stLenDist_matrix.max() - stLenDist_matrix.min())\n",
    "\n",
    "#bütün vektörlerin birleştirelim\n",
    "attribution = (tfidf_matrix, sparce_matrix, wtLenDist_matrix, stLenDist_matrix, normalizedLabels) \n",
    "attribution = np.concatenate(attribution, axis = 1)\n",
    "X_train = attribution"
   ]
  },
  {
   "cell_type": "code",
   "execution_count": 106,
   "id": "f87daa7d",
   "metadata": {},
   "outputs": [],
   "source": [
    "#vektör modellerini kaydedelim\n",
    "import pickle\n",
    "with open('./model/mapping.pkl', 'wb') as f:\n",
    "    pickle.dump(mapping, f)\n",
    "\n",
    "with open('./model/scaler.pkl', 'wb') as f:\n",
    "    pickle.dump(scaler, f)\n",
    "    \n",
    "with open('./model/count_vectorize.pkl', 'wb') as f:\n",
    "    pickle.dump(count_vectorize, f)\n",
    "    \n",
    "with open('./model/tfidf_vector.pkl', 'wb') as f:\n",
    "    pickle.dump(tfidf_vector, f)\n",
    "    \n",
    "with open('./model/dict_vector.pkl', 'wb') as f:\n",
    "    pickle.dump(dict_vector, f)"
   ]
  },
  {
   "cell_type": "code",
   "execution_count": 80,
   "id": "d09a4700",
   "metadata": {},
   "outputs": [],
   "source": [
    "#oluştruduğumuz vektör modelleri ile test veri setini vektörleştirelim\n",
    "test_normalizedLabels = scaler.transform(x_test.loc[:, 'lttr':'numUpper'])\n",
    "\n",
    "test_corpus = np.array(x_test.lemma_token)\n",
    "for i in range(0, len(x_test.lemma_token)):\n",
    "    test_corpus[i] = \" \".join(x_test.lemma_token[i])\n",
    "    \n",
    "test_sparce_matrix = count_vectorize.transform(test_corpus).toarray()\n",
    "test_sparce_matrix = (test_sparce_matrix - test_sparce_matrix.min())/(test_sparce_matrix.max() - test_sparce_matrix.min())\n",
    "\n",
    "test_tfidf_matrix = tfidf_vector.transform(test_corpus).toarray()\n",
    "\n",
    "test_wtLenDist_matrix = dict_vector.transform(x_test.wtLenDist).toarray()\n",
    "test_stLenDist_matrix = dict_vector.transform(x_test.stLenDist).toarray()\n",
    "test_wtLenDist_matrix = (test_wtLenDist_matrix - test_wtLenDist_matrix.min())/(test_wtLenDist_matrix.max() - test_wtLenDist_matrix.min())\n",
    "test_stLenDist_matrix = (test_stLenDist_matrix - test_stLenDist_matrix.min())/(test_stLenDist_matrix.max() - test_stLenDist_matrix.min())\n",
    "\n",
    "test_attribution = (test_tfidf_matrix, test_sparce_matrix, test_wtLenDist_matrix, test_stLenDist_matrix, test_normalizedLabels) \n",
    "test_attribution = np.concatenate(test_attribution, axis = 1)\n",
    "X_test = test_attribution"
   ]
  },
  {
   "cell_type": "markdown",
   "id": "e6b4453b",
   "metadata": {},
   "source": [
    "**SVM default parameters:**\n",
    "\n",
    "    C = 1.0\n",
    "    kernel = rbf\n",
    "    degree = 3\n",
    "    gamma = scale\n",
    "    coef0 = 0.0\n",
    "    shrinking = True\n",
    "    probability = False\n",
    "    tol = 1e-3\n",
    "    cache_size = 200\n",
    "    class_weight = None\n",
    "    verbose = False\n",
    "    max_iter = 1\n",
    "    decision_function_shape = ovr\n",
    "    break_tiles = False\n",
    "    random_state = None"
   ]
  },
  {
   "cell_type": "code",
   "execution_count": 61,
   "id": "f0200086",
   "metadata": {},
   "outputs": [
    {
     "name": "stdout",
     "output_type": "stream",
     "text": [
      "Support Vector Machine Classifier has fitted, this process took 45.03 seconds\n",
      "Accuracy = %57.9100145137881\n"
     ]
    }
   ],
   "source": [
    "import time\n",
    "from sklearn.svm import SVC\n",
    "from sklearn import metrics\n",
    "\n",
    "#sss = StratifiedShuffleSplit(n_splits=5, random_state=42)\n",
    "svm_classifier = SVC()\n",
    "\n",
    "start = time.time() \n",
    "svm_classifier.fit(X_train,y_train)\n",
    "#result = cross_val_score(svm_classifier, x, y, cv = sss)\n",
    "end = time.time()\n",
    "\n",
    "process = round(end-start,2)\n",
    "print(\"Support Vector Machine Classifier has fitted, this process took {} seconds\".format(process))\n",
    "#print(\"Avg accuracy: {}\".format(result.mean()))\n",
    "\n",
    "\n",
    "pred_svm = svm_classifier.predict(X_test)\n",
    "ACC_svm = metrics.accuracy_score(y_test,pred_svm)    \n",
    "print(\"Accuracy = %\"+ str(ACC_svm*100))"
   ]
  },
  {
   "cell_type": "code",
   "execution_count": 40,
   "id": "793a22dd",
   "metadata": {},
   "outputs": [],
   "source": [
    "from scipy.stats import randint\n",
    "from sklearn.experimental import enable_halving_search_cv\n",
    "from sklearn.model_selection import StratifiedShuffleSplit\n",
    "from sklearn.utils.fixes import loguniform\n",
    "from sklearn.model_selection import RandomizedSearchCV"
   ]
  },
  {
   "cell_type": "code",
   "execution_count": null,
   "id": "52091bd0",
   "metadata": {},
   "outputs": [],
   "source": [
    "rng = np.random.RandomState(0)\n",
    "\n",
    "tuned_parameters = [{'kernel': ['rbf'],\n",
    "                     'C': loguniform(1e0, 1e3),\n",
    "                     'gamma': loguniform(1e-4, 1e-2),\n",
    "                     'class_weight':['balanced', None]},\n",
    "                    {'kernel': ['linear'], \n",
    "                     'C': loguniform(1e0, 1e3)},\n",
    "                    {'kernel': ['poly'],\n",
    "                     'gamma': loguniform(1e-4, 1e-2),\n",
    "                     'degree' : [2, 3, 4],\n",
    "                     'C': loguniform(1e0, 1e3)},\n",
    "                    {'kernel': ['sigmoid'],\n",
    "                     'gamma': loguniform(1e-4, 1e-2),\n",
    "                     'C': loguniform(1e0, 1e3)}]\n",
    "\n",
    "rsc = RandomizedSearchCV(\n",
    "        estimator=svm_classifier,\n",
    "        param_distributions=tuned_parameters,\n",
    "        n_iter = 30,\n",
    "        cv=10,\n",
    "        random_state=rng).fit(x, y)"
   ]
  },
  {
   "cell_type": "code",
   "execution_count": null,
   "id": "2c57b208",
   "metadata": {},
   "outputs": [],
   "source": [
    "print(\n",
    "    \"The best parameters are %s with a score of %0.2f\"\n",
    "    % (rsc.best_params_, rsc.best_score_)\n",
    ")"
   ]
  },
  {
   "cell_type": "code",
   "execution_count": 65,
   "id": "02d25aa7",
   "metadata": {},
   "outputs": [
    {
     "name": "stdout",
     "output_type": "stream",
     "text": [
      "Support Vector Machine Classifier has fitted, this process took 41.64 seconds\n",
      "Accuracy = %80.40638606676342\n"
     ]
    }
   ],
   "source": [
    "tuned_svm_classifier = SVC(C = 216.00820741402038, kernel = 'linear')\n",
    "\n",
    "start = time.time() \n",
    "tuned_svm_classifier.fit(X_train,y_train)\n",
    "end = time.time()\n",
    "\n",
    "process = round(end-start,2)\n",
    "print(\"Support Vector Machine Classifier has fitted, this process took {} seconds\".format(process))\n",
    "\n",
    "t_pred_svm = tuned_svm_classifier.predict(X_test)\n",
    "t_ACC_svm = metrics.accuracy_score(y_test,t_pred_svm)    \n",
    "print(\"Accuracy = %\"+ str(t_ACC_svm*100))"
   ]
  },
  {
   "cell_type": "code",
   "execution_count": 129,
   "id": "7955f646",
   "metadata": {},
   "outputs": [
    {
     "data": {
      "image/png": "[encoded data removed]",
      "text/plain": [
       "<Figure size 432x288 with 2 Axes>"
      ]
     },
     "metadata": {},
     "output_type": "display_data"
    }
   ],
   "source": [
    "from sklearn.metrics import confusion_matrix\n",
    "import seaborn as sns; sns.set_theme()\n",
    "cm = confusion_matrix(y_test[20:30],t_pred_svm[20:30])\n",
    "ax = sns.heatmap(cm, annot=True)"
   ]
  },
  {
   "cell_type": "code",
   "execution_count": 98,
   "id": "5c92a864",
   "metadata": {},
   "outputs": [],
   "source": [
    "#svm modelini kaydedelim\n",
    "with open('./model/SVM.pkl', 'wb') as f:\n",
    "    pickle.dump(tuned_svm_classifier, f)"
   ]
  },
  {
   "cell_type": "code",
   "execution_count": 130,
   "id": "04ce4844",
   "metadata": {},
   "outputs": [
    {
     "name": "stdout",
     "output_type": "stream",
     "text": [
      "Accuracy = %80.40638606676342\n"
     ]
    }
   ],
   "source": [
    "#tekrar modeli yükleyerek çalıştırmayı deneyelim\n",
    "with open('./model/SVM.pkl', 'rb') as f:\n",
    "    reloaded_model = pickle.load(f)\n",
    "    \n",
    "r_pred_svm = reloaded_model.predict(X_test)\n",
    "r_ACC_svm = metrics.accuracy_score(y_test,r_pred_svm)    \n",
    "print(\"Accuracy = %\"+ str(r_ACC_svm*100))"
   ]
  },
  {
   "cell_type": "markdown",
   "id": "0d9e6f83",
   "metadata": {},
   "source": [
    "* \n",
    "* \n",
    "* \n",
    "* \n",
    "* \n",
    "* \n",
    "* "
   ]
  },
  {
   "cell_type": "markdown",
   "id": "17d4c43b",
   "metadata": {},
   "source": [
    "**MLP default parameters:**\n",
    "\n",
    "    hidden_layer_sizes=(100,)\n",
    "    activation='relu'\n",
    "    solver='adam'\n",
    "    alpha=0.0001\n",
    "    batch_size='auto'\n",
    "    learning_rate='constant'\n",
    "    learning_rate_init=0.001\n",
    "    power_t=0.5\n",
    "    max_iter=200\n",
    "    shuffle=True\n",
    "    random_state=None\n",
    "    tol=0.0001\n",
    "    verbose=False\n",
    "    warm_start=False\n",
    "    momentum=0.9\n",
    "    nesterovs_momentum=True\n",
    "    early_stopping=False\n",
    "    validation_fraction=0.1\n",
    "    beta_1=0.9\n",
    "    beta_2=0.999\n",
    "    epsilon=1e-08\n",
    "    n_iter_no_change=10\n",
    "    max_fun=15000"
   ]
  },
  {
   "cell_type": "code",
   "execution_count": null,
   "id": "cd5ced95",
   "metadata": {},
   "outputs": [],
   "source": [
    "#MLP ile deneyelim\n",
    "from sklearn.neural_network import MLPClassifier\n",
    "from sklearn import metrics\n",
    "\n",
    "\n",
    "mlp_classifier = MLPClassifier(random_state=42)\n",
    "mlp_classifier.fit(X_train,y_train)\n",
    "\n",
    "pred_mlp = mlp_classifier.predict(X_test)\n",
    "ACC_mlp = metrics.accuracy_score(y_test, pred_mlp)\n",
    "print(\"Accuracy = %\"+ str(ACC_mlp*100))"
   ]
  },
  {
   "cell_type": "code",
   "execution_count": null,
   "id": "a0d70502",
   "metadata": {},
   "outputs": [],
   "source": [
    "import tensorflow as tf\n",
    "x_train, x_test = X_train.reshape(-1, 1, 37414), X_test.reshape(-1, 1, 37414)"
   ]
  },
  {
   "cell_type": "code",
   "execution_count": null,
   "id": "1560dd93",
   "metadata": {},
   "outputs": [],
   "source": [
    "#LSTM ile deneyelim\n",
    "from tensorflow.keras.models import Sequential\n",
    "from tensorflow.keras.layers import Dense, LSTM, Dropout, Embedding, SpatialDropout1D\n",
    "from tensorflow.keras.optimizers import Adam\n",
    "from keras.callbacks import EarlyStopping\n",
    "\n",
    "\n",
    "model=Sequential()\n",
    "\n",
    "model.add(SpatialDropout1D(0.4))\n",
    "model.add(LSTM(256, activation='relu', dropout=0.2, recurrent_dropout=0.2, return_sequences=True))\n",
    "model.add(LSTM(128, activation='relu', dropout=0.2, recurrent_dropout=0.2, return_sequences=True))\n",
    "model.add(LSTM(128, activation='relu', dropout=0.2, recurrent_dropout=0.2, return_sequences=True))\n",
    "model.add(LSTM(74, activation='relu', dropout=0.2, recurrent_dropout=0.2))\n",
    "model.add(Dense(len(data.title.unique()), activation='softmax'))"
   ]
  },
  {
   "cell_type": "code",
   "execution_count": null,
   "id": "36496aba",
   "metadata": {},
   "outputs": [],
   "source": [
    "model.compile(optimizer=Adam(),\n",
    "              loss='sparse_categorical_crossentropy',\n",
    "              metrics=['accuracy'])\n",
    "\n",
    "#Adding an early stopping\n",
    "es = EarlyStopping(monitor='val_accuracy', \n",
    "                   mode='max', \n",
    "                   patience=10, #Stop the model training if the validation accuracy doesnt increase in 10 consecutive Epochs\n",
    "                   restore_best_weights=True)\n"
   ]
  },
  {
   "cell_type": "code",
   "execution_count": null,
   "id": "5e96f94f",
   "metadata": {
    "scrolled": true
   },
   "outputs": [],
   "source": [
    "history = model.fit(x_train, y_train, batch_size=32, epochs=100, callbacks=[es], validation_data=(x_test, y_test))"
   ]
  },
  {
   "cell_type": "code",
   "execution_count": null,
   "id": "ccda8b25",
   "metadata": {},
   "outputs": [],
   "source": [
    "model.summary()"
   ]
  },
  {
   "cell_type": "code",
   "execution_count": null,
   "id": "2f8a1949",
   "metadata": {},
   "outputs": [],
   "source": [
    "model.evaluate(x_test, y_test)"
   ]
  },
  {
   "cell_type": "code",
   "execution_count": null,
   "id": "dfafd39a",
   "metadata": {},
   "outputs": [],
   "source": [
    "for i in ['accuracy']:\n",
    "    acc = history.history[i]\n",
    "    val_acc = history.history['val_{}'.format(i)]\n",
    "    epochs = range(1, len(acc) + 1)\n",
    "\n",
    "    plt.figure()\n",
    "    plt.plot(epochs, acc, label='Training Accuracy')\n",
    "    plt.plot(epochs, val_acc, label='Validation Accuracy')\n",
    "    plt.title('Results for {}'.format(i))\n",
    "    plt.legend()\n",
    "    plt.show()"
   ]
  }
 ],
 "metadata": {
  "kernelspec": {
   "display_name": "Python 3 (ipykernel)",
   "language": "python",
   "name": "python3"
  },
  "language_info": {
   "codemirror_mode": {
    "name": "ipython",
    "version": 3
   },
   "file_extension": ".py",
   "mimetype": "text/x-python",
   "name": "python",
   "nbconvert_exporter": "python",
   "pygments_lexer": "ipython3",
   "version": "3.9.7"
  }
 },
 "nbformat": 4,
 "nbformat_minor": 5
}
