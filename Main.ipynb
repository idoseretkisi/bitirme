{
 "cells": [
  {
   "cell_type": "code",
   "execution_count": 1,
   "id": "f073f140",
   "metadata": {},
   "outputs": [],
   "source": [
    "# Zemberek'i kullanabillmek için ilk önce java kütüphenelerini kullanmamızı sağlayan kütüphaneyi ekleyelim\n",
    "import jpype\n",
    "from jpype import JClass, JString, getDefaultJVMPath, shutdownJVM, startJVM, java"
   ]
  },
  {
   "cell_type": "code",
   "execution_count": 2,
   "id": "111c743a",
   "metadata": {},
   "outputs": [],
   "source": [
    "# Zembrek'in jar dosyalarını okuyalım ve hangi modüller var bakalım\n",
    "from zipfile import *\n",
    "import zipfile\n",
    "\n",
    "def read_jar(jar_file):\n",
    "    zf = zipfile.ZipFile(jar_file, 'r')\n",
    "    try:\n",
    "        lst = zf.infolist()\n",
    "        for zi in lst:\n",
    "            fn = zi.filename \n",
    "    finally:\n",
    "        zf.close()\n",
    "        \n",
    "read_jar(\"zemberek-full.jar\")"
   ]
  },
  {
   "cell_type": "code",
   "execution_count": 3,
   "id": "23297faf",
   "metadata": {},
   "outputs": [
    {
     "name": "stdout",
     "output_type": "stream",
     "text": [
      "ok\n"
     ]
    }
   ],
   "source": [
    "# Zembrek'i çalıştıralım\n",
    "jar = r\"C:/Users/Dilemre/Documents/GitHub/bitirme/zemberek-full.jar\" # Zemberek'in yolu\n",
    "jvmpath = r\"C:/Program Files/Java/jdk-17.0.2/bin/server/jvm.dll\" # JVM'in yolu\n",
    "if not jpype.isJVMStarted():\n",
    "    jpype.startJVM(jvmpath=jvmpath, classpath=jar)\n",
    "    print(\"ok\")"
   ]
  },
  {
   "cell_type": "code",
   "execution_count": 4,
   "id": "d1edb584",
   "metadata": {},
   "outputs": [],
   "source": [
    "# Zemberekten gerekili kütüphaneleri import edelim\n",
    "try:\n",
    "    TurkishTokenizer = JClass('zemberek.tokenization.TurkishTokenizer')\n",
    "    Token = JClass('zemberek.tokenization.Token')\n",
    "    TurkishMorphology = JClass('zemberek.morphology.TurkishMorphology')\n",
    "    TurkishSpellChecker = JClass('zemberek.normalization.TurkishSpellChecker')\n",
    "    WordAnalysis =  JClass('zemberek.morphology.analysis.WordAnalysis')\n",
    "    TurkishSentenceExtractor = JClass('zemberek.tokenization.TurkishSentenceExtractor')\n",
    "except:\n",
    "    print(\"wrong path\")"
   ]
  },
  {
   "cell_type": "code",
   "execution_count": 5,
   "id": "9c88ebc0",
   "metadata": {},
   "outputs": [],
   "source": [
    "morphology = TurkishMorphology.createWithDefaults()\n",
    "tokenizer = TurkishTokenizer.ALL\n",
    "spell_checker = TurkishSpellChecker(morphology)\n",
    "extractor = TurkishSentenceExtractor.DEFAULT"
   ]
  },
  {
   "cell_type": "code",
   "execution_count": 6,
   "id": "5a14b3d1",
   "metadata": {},
   "outputs": [],
   "source": [
    "#Verilerimizi almak ve işlemek için gerekli kütüphaneler\n",
    "import pandas as pd\n",
    "import numpy as np\n",
    "import string"
   ]
  },
  {
   "cell_type": "code",
   "execution_count": 7,
   "id": "ea988c86",
   "metadata": {},
   "outputs": [
    {
     "data": {
      "text/html": [
       "<div>\n",
       "<style scoped>\n",
       "    .dataframe tbody tr th:only-of-type {\n",
       "        vertical-align: middle;\n",
       "    }\n",
       "\n",
       "    .dataframe tbody tr th {\n",
       "        vertical-align: top;\n",
       "    }\n",
       "\n",
       "    .dataframe thead th {\n",
       "        text-align: right;\n",
       "    }\n",
       "</style>\n",
       "<table border=\"1\" class=\"dataframe\">\n",
       "  <thead>\n",
       "    <tr style=\"text-align: right;\">\n",
       "      <th></th>\n",
       "      <th>info</th>\n",
       "      <th>title</th>\n",
       "      <th>caption</th>\n",
       "      <th>link</th>\n",
       "      <th>text</th>\n",
       "    </tr>\n",
       "  </thead>\n",
       "  <tbody>\n",
       "    <tr>\n",
       "      <th>0</th>\n",
       "      <td>19 Mart 2021, Cuma</td>\n",
       "      <td>MEHMET BARLAS</td>\n",
       "      <td>Türk siyasetinde Devlet Bahçeli bir tutarlılık...</td>\n",
       "      <td>https://www.sabah.com.tr/yazarlar/barlas/2021/...</td>\n",
       "      <td>\\n\\nDün MHP'nin Büyük Kurultay'ında Genel Başk...</td>\n",
       "    </tr>\n",
       "    <tr>\n",
       "      <th>1</th>\n",
       "      <td>18 Mart 2021, Perşembe</td>\n",
       "      <td>MEHMET BARLAS</td>\n",
       "      <td>Amerikan iç politikasında kimin kimi hedef ala...</td>\n",
       "      <td>https://www.sabah.com.tr/yazarlar/barlas/2021/...</td>\n",
       "      <td>\\n\\nAmerikan iç politikasındaki gelişmeler kes...</td>\n",
       "    </tr>\n",
       "    <tr>\n",
       "      <th>2</th>\n",
       "      <td>17 Mart 2021, Çarşamba</td>\n",
       "      <td>MEHMET BARLAS</td>\n",
       "      <td>Amerikalılar, yalancı Amerikan başkanlarını ar...</td>\n",
       "      <td>https://www.sabah.com.tr/yazarlar/barlas/2021/...</td>\n",
       "      <td>\\n\\nBugüne kadar her konuda Yunanistan'ın ve K...</td>\n",
       "    </tr>\n",
       "    <tr>\n",
       "      <th>3</th>\n",
       "      <td>16 Mart 2021, Salı</td>\n",
       "      <td>MEHMET BARLAS</td>\n",
       "      <td>Darbeler geçmişte Türkiye’nin dış politikasını...</td>\n",
       "      <td>https://www.sabah.com.tr/yazarlar/barlas/2021/...</td>\n",
       "      <td>\\n\\nMısır'la diplomatik ilişkilerin başlaması,...</td>\n",
       "    </tr>\n",
       "    <tr>\n",
       "      <th>4</th>\n",
       "      <td>15 Mart 2021, Pazartesi</td>\n",
       "      <td>MEHMET BARLAS</td>\n",
       "      <td>Müflis Yunanistan, Türkiye’ye gövde gösterisi ...</td>\n",
       "      <td>https://www.sabah.com.tr/yazarlar/barlas/2021/...</td>\n",
       "      <td>\\n\\nTabii ki hiçbir ülkeyi küçük görmemek gere...</td>\n",
       "    </tr>\n",
       "    <tr>\n",
       "      <th>...</th>\n",
       "      <td>...</td>\n",
       "      <td>...</td>\n",
       "      <td>...</td>\n",
       "      <td>...</td>\n",
       "      <td>...</td>\n",
       "    </tr>\n",
       "    <tr>\n",
       "      <th>2410</th>\n",
       "      <td>18 Şubat 2017, Cumartesi</td>\n",
       "      <td>ÖMER DURNA (AKDENİZ)</td>\n",
       "      <td>Takım ruhu lider yapar</td>\n",
       "      <td>https://www.sabah.com.tr/yazarlar/bolgeler/ome...</td>\n",
       "      <td>\\n\\nAntalya'nın her alanda kurtuluşu takım ruh...</td>\n",
       "    </tr>\n",
       "    <tr>\n",
       "      <th>2411</th>\n",
       "      <td>11 Şubat 2017, Cumartesi</td>\n",
       "      <td>ÖMER DURNA (AKDENİZ)</td>\n",
       "      <td>Önemli gün</td>\n",
       "      <td>https://www.sabah.com.tr/yazarlar/bolgeler/ome...</td>\n",
       "      <td>\\n\\nBugün Antalya için çok önemli bir gün.\\r\\n...</td>\n",
       "    </tr>\n",
       "    <tr>\n",
       "      <th>2412</th>\n",
       "      <td>28 Ocak 2017, Cumartesi</td>\n",
       "      <td>ÖMER DURNA (AKDENİZ)</td>\n",
       "      <td>Haydi maça</td>\n",
       "      <td>https://www.sabah.com.tr/yazarlar/bolgeler/ome...</td>\n",
       "      <td>\\n\\nAntalya'da spor ve kardeşlik adına önemli ...</td>\n",
       "    </tr>\n",
       "    <tr>\n",
       "      <th>2413</th>\n",
       "      <td>21 Ocak 2017, Cumartesi</td>\n",
       "      <td>ÖMER DURNA (AKDENİZ)</td>\n",
       "      <td>Laf-ı güzaf</td>\n",
       "      <td>https://www.sabah.com.tr/yazarlar/bolgeler/ome...</td>\n",
       "      <td>\\n\\nDün bizim gazetenin manşet haberi Antalya ...</td>\n",
       "    </tr>\n",
       "    <tr>\n",
       "      <th>2414</th>\n",
       "      <td>14 Ocak 2017, Cumartesi</td>\n",
       "      <td>ÖMER DURNA (AKDENİZ)</td>\n",
       "      <td>İyi, kötü, çirkin</td>\n",
       "      <td>https://www.sabah.com.tr/yazarlar/bolgeler/ome...</td>\n",
       "      <td>\\n\\nAntalya güzellikleri ile dünyaya nam salan...</td>\n",
       "    </tr>\n",
       "  </tbody>\n",
       "</table>\n",
       "<p>2415 rows × 5 columns</p>\n",
       "</div>"
      ],
      "text/plain": [
       "                          info                 title  \\\n",
       "0           19 Mart 2021, Cuma         MEHMET BARLAS   \n",
       "1       18 Mart 2021, Perşembe         MEHMET BARLAS   \n",
       "2       17 Mart 2021, Çarşamba         MEHMET BARLAS   \n",
       "3           16 Mart 2021, Salı         MEHMET BARLAS   \n",
       "4      15 Mart 2021, Pazartesi         MEHMET BARLAS   \n",
       "...                        ...                   ...   \n",
       "2410  18 Şubat 2017, Cumartesi  ÖMER DURNA (AKDENİZ)   \n",
       "2411  11 Şubat 2017, Cumartesi  ÖMER DURNA (AKDENİZ)   \n",
       "2412   28 Ocak 2017, Cumartesi  ÖMER DURNA (AKDENİZ)   \n",
       "2413   21 Ocak 2017, Cumartesi  ÖMER DURNA (AKDENİZ)   \n",
       "2414   14 Ocak 2017, Cumartesi  ÖMER DURNA (AKDENİZ)   \n",
       "\n",
       "                                                caption  \\\n",
       "0     Türk siyasetinde Devlet Bahçeli bir tutarlılık...   \n",
       "1     Amerikan iç politikasında kimin kimi hedef ala...   \n",
       "2     Amerikalılar, yalancı Amerikan başkanlarını ar...   \n",
       "3     Darbeler geçmişte Türkiye’nin dış politikasını...   \n",
       "4     Müflis Yunanistan, Türkiye’ye gövde gösterisi ...   \n",
       "...                                                 ...   \n",
       "2410                             Takım ruhu lider yapar   \n",
       "2411                                         Önemli gün   \n",
       "2412                                         Haydi maça   \n",
       "2413                                        Laf-ı güzaf   \n",
       "2414                                  İyi, kötü, çirkin   \n",
       "\n",
       "                                                   link  \\\n",
       "0     https://www.sabah.com.tr/yazarlar/barlas/2021/...   \n",
       "1     https://www.sabah.com.tr/yazarlar/barlas/2021/...   \n",
       "2     https://www.sabah.com.tr/yazarlar/barlas/2021/...   \n",
       "3     https://www.sabah.com.tr/yazarlar/barlas/2021/...   \n",
       "4     https://www.sabah.com.tr/yazarlar/barlas/2021/...   \n",
       "...                                                 ...   \n",
       "2410  https://www.sabah.com.tr/yazarlar/bolgeler/ome...   \n",
       "2411  https://www.sabah.com.tr/yazarlar/bolgeler/ome...   \n",
       "2412  https://www.sabah.com.tr/yazarlar/bolgeler/ome...   \n",
       "2413  https://www.sabah.com.tr/yazarlar/bolgeler/ome...   \n",
       "2414  https://www.sabah.com.tr/yazarlar/bolgeler/ome...   \n",
       "\n",
       "                                                   text  \n",
       "0     \\n\\nDün MHP'nin Büyük Kurultay'ında Genel Başk...  \n",
       "1     \\n\\nAmerikan iç politikasındaki gelişmeler kes...  \n",
       "2     \\n\\nBugüne kadar her konuda Yunanistan'ın ve K...  \n",
       "3     \\n\\nMısır'la diplomatik ilişkilerin başlaması,...  \n",
       "4     \\n\\nTabii ki hiçbir ülkeyi küçük görmemek gere...  \n",
       "...                                                 ...  \n",
       "2410  \\n\\nAntalya'nın her alanda kurtuluşu takım ruh...  \n",
       "2411  \\n\\nBugün Antalya için çok önemli bir gün.\\r\\n...  \n",
       "2412  \\n\\nAntalya'da spor ve kardeşlik adına önemli ...  \n",
       "2413  \\n\\nDün bizim gazetenin manşet haberi Antalya ...  \n",
       "2414  \\n\\nAntalya güzellikleri ile dünyaya nam salan...  \n",
       "\n",
       "[2415 rows x 5 columns]"
      ]
     },
     "execution_count": 7,
     "metadata": {},
     "output_type": "execute_result"
    }
   ],
   "source": [
    "stopwords = [x.strip() for x in open('stop-words.txt','r', encoding=\"UTF8\").read().split('\\n')]\n",
    "df = pd.read_csv(\"ndata.csv\")\n",
    "df"
   ]
  },
  {
   "cell_type": "code",
   "execution_count": 8,
   "id": "e445d8bf",
   "metadata": {
    "scrolled": false
   },
   "outputs": [
    {
     "data": {
      "text/plain": [
       "count    204.000000\n",
       "mean      11.838235\n",
       "std        8.208389\n",
       "min        1.000000\n",
       "25%        2.000000\n",
       "50%       17.000000\n",
       "75%       20.000000\n",
       "max       20.000000\n",
       "Name: title, dtype: float64"
      ]
     },
     "execution_count": 8,
     "metadata": {},
     "output_type": "execute_result"
    }
   ],
   "source": [
    "# Dengesiz bir verimiz var\n",
    "df.title.value_counts().describe()"
   ]
  },
  {
   "cell_type": "code",
   "execution_count": 9,
   "id": "1b22a853",
   "metadata": {},
   "outputs": [
    {
     "data": {
      "text/html": [
       "<div>\n",
       "<style scoped>\n",
       "    .dataframe tbody tr th:only-of-type {\n",
       "        vertical-align: middle;\n",
       "    }\n",
       "\n",
       "    .dataframe tbody tr th {\n",
       "        vertical-align: top;\n",
       "    }\n",
       "\n",
       "    .dataframe thead th {\n",
       "        text-align: right;\n",
       "    }\n",
       "</style>\n",
       "<table border=\"1\" class=\"dataframe\">\n",
       "  <thead>\n",
       "    <tr style=\"text-align: right;\">\n",
       "      <th></th>\n",
       "      <th>info</th>\n",
       "      <th>title</th>\n",
       "      <th>caption</th>\n",
       "      <th>link</th>\n",
       "      <th>text</th>\n",
       "    </tr>\n",
       "  </thead>\n",
       "  <tbody>\n",
       "    <tr>\n",
       "      <th>0</th>\n",
       "      <td>19 Mart 2021, Cuma</td>\n",
       "      <td>MEHMET BARLAS</td>\n",
       "      <td>Türk siyasetinde Devlet Bahçeli bir tutarlılık...</td>\n",
       "      <td>https://www.sabah.com.tr/yazarlar/barlas/2021/...</td>\n",
       "      <td>\\n\\nDün MHP'nin Büyük Kurultay'ında Genel Başk...</td>\n",
       "    </tr>\n",
       "    <tr>\n",
       "      <th>1</th>\n",
       "      <td>18 Mart 2021, Perşembe</td>\n",
       "      <td>MEHMET BARLAS</td>\n",
       "      <td>Amerikan iç politikasında kimin kimi hedef ala...</td>\n",
       "      <td>https://www.sabah.com.tr/yazarlar/barlas/2021/...</td>\n",
       "      <td>\\n\\nAmerikan iç politikasındaki gelişmeler kes...</td>\n",
       "    </tr>\n",
       "    <tr>\n",
       "      <th>2</th>\n",
       "      <td>17 Mart 2021, Çarşamba</td>\n",
       "      <td>MEHMET BARLAS</td>\n",
       "      <td>Amerikalılar, yalancı Amerikan başkanlarını ar...</td>\n",
       "      <td>https://www.sabah.com.tr/yazarlar/barlas/2021/...</td>\n",
       "      <td>\\n\\nBugüne kadar her konuda Yunanistan'ın ve K...</td>\n",
       "    </tr>\n",
       "    <tr>\n",
       "      <th>3</th>\n",
       "      <td>16 Mart 2021, Salı</td>\n",
       "      <td>MEHMET BARLAS</td>\n",
       "      <td>Darbeler geçmişte Türkiye’nin dış politikasını...</td>\n",
       "      <td>https://www.sabah.com.tr/yazarlar/barlas/2021/...</td>\n",
       "      <td>\\n\\nMısır'la diplomatik ilişkilerin başlaması,...</td>\n",
       "    </tr>\n",
       "    <tr>\n",
       "      <th>4</th>\n",
       "      <td>15 Mart 2021, Pazartesi</td>\n",
       "      <td>MEHMET BARLAS</td>\n",
       "      <td>Müflis Yunanistan, Türkiye’ye gövde gösterisi ...</td>\n",
       "      <td>https://www.sabah.com.tr/yazarlar/barlas/2021/...</td>\n",
       "      <td>\\n\\nTabii ki hiçbir ülkeyi küçük görmemek gere...</td>\n",
       "    </tr>\n",
       "  </tbody>\n",
       "</table>\n",
       "</div>"
      ],
      "text/plain": [
       "                      info          title  \\\n",
       "0       19 Mart 2021, Cuma  MEHMET BARLAS   \n",
       "1   18 Mart 2021, Perşembe  MEHMET BARLAS   \n",
       "2   17 Mart 2021, Çarşamba  MEHMET BARLAS   \n",
       "3       16 Mart 2021, Salı  MEHMET BARLAS   \n",
       "4  15 Mart 2021, Pazartesi  MEHMET BARLAS   \n",
       "\n",
       "                                             caption  \\\n",
       "0  Türk siyasetinde Devlet Bahçeli bir tutarlılık...   \n",
       "1  Amerikan iç politikasında kimin kimi hedef ala...   \n",
       "2  Amerikalılar, yalancı Amerikan başkanlarını ar...   \n",
       "3  Darbeler geçmişte Türkiye’nin dış politikasını...   \n",
       "4  Müflis Yunanistan, Türkiye’ye gövde gösterisi ...   \n",
       "\n",
       "                                                link  \\\n",
       "0  https://www.sabah.com.tr/yazarlar/barlas/2021/...   \n",
       "1  https://www.sabah.com.tr/yazarlar/barlas/2021/...   \n",
       "2  https://www.sabah.com.tr/yazarlar/barlas/2021/...   \n",
       "3  https://www.sabah.com.tr/yazarlar/barlas/2021/...   \n",
       "4  https://www.sabah.com.tr/yazarlar/barlas/2021/...   \n",
       "\n",
       "                                                text  \n",
       "0  \\n\\nDün MHP'nin Büyük Kurultay'ında Genel Başk...  \n",
       "1  \\n\\nAmerikan iç politikasındaki gelişmeler kes...  \n",
       "2  \\n\\nBugüne kadar her konuda Yunanistan'ın ve K...  \n",
       "3  \\n\\nMısır'la diplomatik ilişkilerin başlaması,...  \n",
       "4  \\n\\nTabii ki hiçbir ülkeyi küçük görmemek gere...  "
      ]
     },
     "execution_count": 9,
     "metadata": {},
     "output_type": "execute_result"
    }
   ],
   "source": [
    "df.head()"
   ]
  },
  {
   "cell_type": "code",
   "execution_count": 10,
   "id": "e6be3a7a",
   "metadata": {},
   "outputs": [
    {
     "data": {
      "text/plain": [
       "95"
      ]
     },
     "execution_count": 10,
     "metadata": {},
     "output_type": "execute_result"
    }
   ],
   "source": [
    "df[df.groupby('title').title.transform('count') < 15].title.unique().size"
   ]
  },
  {
   "cell_type": "code",
   "execution_count": 11,
   "id": "a29e103a",
   "metadata": {},
   "outputs": [
    {
     "data": {
      "text/plain": [
       "328"
      ]
     },
     "execution_count": 11,
     "metadata": {},
     "output_type": "execute_result"
    }
   ],
   "source": [
    "df[df.groupby('title').title.transform('count') < 15].text.size"
   ]
  },
  {
   "cell_type": "code",
   "execution_count": 12,
   "id": "bd7f6c16",
   "metadata": {
    "scrolled": true
   },
   "outputs": [
    {
     "data": {
      "text/html": [
       "<div>\n",
       "<style scoped>\n",
       "    .dataframe tbody tr th:only-of-type {\n",
       "        vertical-align: middle;\n",
       "    }\n",
       "\n",
       "    .dataframe tbody tr th {\n",
       "        vertical-align: top;\n",
       "    }\n",
       "\n",
       "    .dataframe thead th {\n",
       "        text-align: right;\n",
       "    }\n",
       "</style>\n",
       "<table border=\"1\" class=\"dataframe\">\n",
       "  <thead>\n",
       "    <tr style=\"text-align: right;\">\n",
       "      <th></th>\n",
       "      <th>info</th>\n",
       "      <th>title</th>\n",
       "      <th>caption</th>\n",
       "      <th>link</th>\n",
       "      <th>text</th>\n",
       "    </tr>\n",
       "  </thead>\n",
       "  <tbody>\n",
       "    <tr>\n",
       "      <th>0</th>\n",
       "      <td>19 Mart 2021, Cuma</td>\n",
       "      <td>MEHMET BARLAS</td>\n",
       "      <td>Türk siyasetinde Devlet Bahçeli bir tutarlılık...</td>\n",
       "      <td>https://www.sabah.com.tr/yazarlar/barlas/2021/...</td>\n",
       "      <td>\\n\\nDün MHP'nin Büyük Kurultay'ında Genel Başk...</td>\n",
       "    </tr>\n",
       "    <tr>\n",
       "      <th>1</th>\n",
       "      <td>18 Mart 2021, Perşembe</td>\n",
       "      <td>MEHMET BARLAS</td>\n",
       "      <td>Amerikan iç politikasında kimin kimi hedef ala...</td>\n",
       "      <td>https://www.sabah.com.tr/yazarlar/barlas/2021/...</td>\n",
       "      <td>\\n\\nAmerikan iç politikasındaki gelişmeler kes...</td>\n",
       "    </tr>\n",
       "    <tr>\n",
       "      <th>2</th>\n",
       "      <td>17 Mart 2021, Çarşamba</td>\n",
       "      <td>MEHMET BARLAS</td>\n",
       "      <td>Amerikalılar, yalancı Amerikan başkanlarını ar...</td>\n",
       "      <td>https://www.sabah.com.tr/yazarlar/barlas/2021/...</td>\n",
       "      <td>\\n\\nBugüne kadar her konuda Yunanistan'ın ve K...</td>\n",
       "    </tr>\n",
       "    <tr>\n",
       "      <th>3</th>\n",
       "      <td>16 Mart 2021, Salı</td>\n",
       "      <td>MEHMET BARLAS</td>\n",
       "      <td>Darbeler geçmişte Türkiye’nin dış politikasını...</td>\n",
       "      <td>https://www.sabah.com.tr/yazarlar/barlas/2021/...</td>\n",
       "      <td>\\n\\nMısır'la diplomatik ilişkilerin başlaması,...</td>\n",
       "    </tr>\n",
       "    <tr>\n",
       "      <th>4</th>\n",
       "      <td>15 Mart 2021, Pazartesi</td>\n",
       "      <td>MEHMET BARLAS</td>\n",
       "      <td>Müflis Yunanistan, Türkiye’ye gövde gösterisi ...</td>\n",
       "      <td>https://www.sabah.com.tr/yazarlar/barlas/2021/...</td>\n",
       "      <td>\\n\\nTabii ki hiçbir ülkeyi küçük görmemek gere...</td>\n",
       "    </tr>\n",
       "    <tr>\n",
       "      <th>...</th>\n",
       "      <td>...</td>\n",
       "      <td>...</td>\n",
       "      <td>...</td>\n",
       "      <td>...</td>\n",
       "      <td>...</td>\n",
       "    </tr>\n",
       "    <tr>\n",
       "      <th>2082</th>\n",
       "      <td>18 Şubat 2017, Cumartesi</td>\n",
       "      <td>ÖMER DURNA (AKDENİZ)</td>\n",
       "      <td>Takım ruhu lider yapar</td>\n",
       "      <td>https://www.sabah.com.tr/yazarlar/bolgeler/ome...</td>\n",
       "      <td>\\n\\nAntalya'nın her alanda kurtuluşu takım ruh...</td>\n",
       "    </tr>\n",
       "    <tr>\n",
       "      <th>2083</th>\n",
       "      <td>11 Şubat 2017, Cumartesi</td>\n",
       "      <td>ÖMER DURNA (AKDENİZ)</td>\n",
       "      <td>Önemli gün</td>\n",
       "      <td>https://www.sabah.com.tr/yazarlar/bolgeler/ome...</td>\n",
       "      <td>\\n\\nBugün Antalya için çok önemli bir gün.\\r\\n...</td>\n",
       "    </tr>\n",
       "    <tr>\n",
       "      <th>2084</th>\n",
       "      <td>28 Ocak 2017, Cumartesi</td>\n",
       "      <td>ÖMER DURNA (AKDENİZ)</td>\n",
       "      <td>Haydi maça</td>\n",
       "      <td>https://www.sabah.com.tr/yazarlar/bolgeler/ome...</td>\n",
       "      <td>\\n\\nAntalya'da spor ve kardeşlik adına önemli ...</td>\n",
       "    </tr>\n",
       "    <tr>\n",
       "      <th>2085</th>\n",
       "      <td>21 Ocak 2017, Cumartesi</td>\n",
       "      <td>ÖMER DURNA (AKDENİZ)</td>\n",
       "      <td>Laf-ı güzaf</td>\n",
       "      <td>https://www.sabah.com.tr/yazarlar/bolgeler/ome...</td>\n",
       "      <td>\\n\\nDün bizim gazetenin manşet haberi Antalya ...</td>\n",
       "    </tr>\n",
       "    <tr>\n",
       "      <th>2086</th>\n",
       "      <td>14 Ocak 2017, Cumartesi</td>\n",
       "      <td>ÖMER DURNA (AKDENİZ)</td>\n",
       "      <td>İyi, kötü, çirkin</td>\n",
       "      <td>https://www.sabah.com.tr/yazarlar/bolgeler/ome...</td>\n",
       "      <td>\\n\\nAntalya güzellikleri ile dünyaya nam salan...</td>\n",
       "    </tr>\n",
       "  </tbody>\n",
       "</table>\n",
       "<p>2087 rows × 5 columns</p>\n",
       "</div>"
      ],
      "text/plain": [
       "                          info                 title  \\\n",
       "0           19 Mart 2021, Cuma         MEHMET BARLAS   \n",
       "1       18 Mart 2021, Perşembe         MEHMET BARLAS   \n",
       "2       17 Mart 2021, Çarşamba         MEHMET BARLAS   \n",
       "3           16 Mart 2021, Salı         MEHMET BARLAS   \n",
       "4      15 Mart 2021, Pazartesi         MEHMET BARLAS   \n",
       "...                        ...                   ...   \n",
       "2082  18 Şubat 2017, Cumartesi  ÖMER DURNA (AKDENİZ)   \n",
       "2083  11 Şubat 2017, Cumartesi  ÖMER DURNA (AKDENİZ)   \n",
       "2084   28 Ocak 2017, Cumartesi  ÖMER DURNA (AKDENİZ)   \n",
       "2085   21 Ocak 2017, Cumartesi  ÖMER DURNA (AKDENİZ)   \n",
       "2086   14 Ocak 2017, Cumartesi  ÖMER DURNA (AKDENİZ)   \n",
       "\n",
       "                                                caption  \\\n",
       "0     Türk siyasetinde Devlet Bahçeli bir tutarlılık...   \n",
       "1     Amerikan iç politikasında kimin kimi hedef ala...   \n",
       "2     Amerikalılar, yalancı Amerikan başkanlarını ar...   \n",
       "3     Darbeler geçmişte Türkiye’nin dış politikasını...   \n",
       "4     Müflis Yunanistan, Türkiye’ye gövde gösterisi ...   \n",
       "...                                                 ...   \n",
       "2082                             Takım ruhu lider yapar   \n",
       "2083                                         Önemli gün   \n",
       "2084                                         Haydi maça   \n",
       "2085                                        Laf-ı güzaf   \n",
       "2086                                  İyi, kötü, çirkin   \n",
       "\n",
       "                                                   link  \\\n",
       "0     https://www.sabah.com.tr/yazarlar/barlas/2021/...   \n",
       "1     https://www.sabah.com.tr/yazarlar/barlas/2021/...   \n",
       "2     https://www.sabah.com.tr/yazarlar/barlas/2021/...   \n",
       "3     https://www.sabah.com.tr/yazarlar/barlas/2021/...   \n",
       "4     https://www.sabah.com.tr/yazarlar/barlas/2021/...   \n",
       "...                                                 ...   \n",
       "2082  https://www.sabah.com.tr/yazarlar/bolgeler/ome...   \n",
       "2083  https://www.sabah.com.tr/yazarlar/bolgeler/ome...   \n",
       "2084  https://www.sabah.com.tr/yazarlar/bolgeler/ome...   \n",
       "2085  https://www.sabah.com.tr/yazarlar/bolgeler/ome...   \n",
       "2086  https://www.sabah.com.tr/yazarlar/bolgeler/ome...   \n",
       "\n",
       "                                                   text  \n",
       "0     \\n\\nDün MHP'nin Büyük Kurultay'ında Genel Başk...  \n",
       "1     \\n\\nAmerikan iç politikasındaki gelişmeler kes...  \n",
       "2     \\n\\nBugüne kadar her konuda Yunanistan'ın ve K...  \n",
       "3     \\n\\nMısır'la diplomatik ilişkilerin başlaması,...  \n",
       "4     \\n\\nTabii ki hiçbir ülkeyi küçük görmemek gere...  \n",
       "...                                                 ...  \n",
       "2082  \\n\\nAntalya'nın her alanda kurtuluşu takım ruh...  \n",
       "2083  \\n\\nBugün Antalya için çok önemli bir gün.\\r\\n...  \n",
       "2084  \\n\\nAntalya'da spor ve kardeşlik adına önemli ...  \n",
       "2085  \\n\\nDün bizim gazetenin manşet haberi Antalya ...  \n",
       "2086  \\n\\nAntalya güzellikleri ile dünyaya nam salan...  \n",
       "\n",
       "[2087 rows x 5 columns]"
      ]
     },
     "execution_count": 12,
     "metadata": {},
     "output_type": "execute_result"
    }
   ],
   "source": [
    "data = df[df.groupby('title').title.transform('count') >= 15].copy()\n",
    "data = data.reset_index(drop = True)\n",
    "data"
   ]
  },
  {
   "cell_type": "code",
   "execution_count": 13,
   "id": "6e5bd466",
   "metadata": {},
   "outputs": [
    {
     "data": {
      "text/plain": [
       "109"
      ]
     },
     "execution_count": 13,
     "metadata": {},
     "output_type": "execute_result"
    }
   ],
   "source": [
    "data.title.unique().size"
   ]
  },
  {
   "cell_type": "code",
   "execution_count": 14,
   "id": "78d69e6a",
   "metadata": {},
   "outputs": [
    {
     "data": {
      "text/plain": [
       "2087"
      ]
     },
     "execution_count": 14,
     "metadata": {},
     "output_type": "execute_result"
    }
   ],
   "source": [
    "data.text.size"
   ]
  },
  {
   "cell_type": "code",
   "execution_count": 15,
   "id": "b29d1ee4",
   "metadata": {},
   "outputs": [],
   "source": [
    "def dataCleaning(text):\n",
    "    \"\"\"Satır boşluklarını kaldır, metini küçük harfe çevir, noktalama işaretlerini kaldır\"\"\"\n",
    "    text = text.replace(\"\\n\", \" \")\n",
    "    text = text.lower()\n",
    "    text = \"\".join([i for i in text if (i.isalnum() or i == \" \")])\n",
    "    return \" \".join(text.split())\n",
    "\n",
    "\n",
    "def removeStopwords(text):\n",
    "    \"\"\"Zemberek'ten aldığımız stopword kelimelerini kaldırır\"\"\"\n",
    "    for word in text:\n",
    "        if word in stopwords or word in string.whitespace:\n",
    "            text.remove(word)\n",
    "    return text\n",
    "\n",
    "\n",
    "def wordTokenize(text):\n",
    "    \"\"\"Önişlenmiş metini kelimelere ayırır ve stopword'leri kaldırır\"\"\"\n",
    "    text = text.split(\" \")\n",
    "    text = removeStopwords(text)\n",
    "    return text\n",
    "\n",
    "\n",
    "def sentTokenize(text):\n",
    "    \"\"\"Önişlenmemiş metini cümlelerine ayırır, bunişlem sırasında önişleme yapar ve stopword'leri kaldırır \"\"\"\n",
    "    sent_list = []\n",
    "    text = text.replace(\"\\\"\", \"\")\n",
    "    results: TurkishSentenceExtractor = extractor.fromDocument(jpype.JString(text))\n",
    "    for result in results:\n",
    "        result = dataCleaning(str(result))\n",
    "        result = removeStopwords(result.split(\" \"))\n",
    "        if len(result) == 0:\n",
    "            continue\n",
    "        else:\n",
    "            sent_list.append(\" \".join(result))         \n",
    "    return sent_list\n",
    "\n",
    "#### Burada UNK kelimeleri UNK olarak alıcak şekilde düzenlenmeli - hatta unk kelime sayısı da nitelik olarak eklenmeli\n",
    "def lemmas(word_list):\n",
    "    \"\"\"Kelime token'larından kök tokenları oluşturur\"\"\"\n",
    "    lemma = []\n",
    "    for word in word_list:\n",
    "        result = str(morphology.analyzeAndDisambiguate(word).bestAnalysis()[0].getLemmas()[0])\n",
    "        if result == \"UNK\":\n",
    "            lemma.append(result)\n",
    "        else:\n",
    "            lemma.append(result)\n",
    "    return lemma\n",
    "\n",
    "\n",
    "def wtDist(wt):\n",
    "    \"\"\"Kelimelerin dağılımları\"\"\"\n",
    "    wt_dist = dict()\n",
    "    wt_dist.fromkeys(set(wt))\n",
    "    for i in set(wt):\n",
    "        wt_dist[i] = wt.count(i)\n",
    "    return wt_dist\n",
    "\n",
    "\n",
    "def wtLenDist(wt):\n",
    "    \"\"\"Kelimelerin harf olarak uzunluk dağılımlarını çıkarır\"\"\"\n",
    "    wt_len = [len(str(word)) for word in wt]\n",
    "    wt_len_dist = dict()\n",
    "    wt_len_dist.fromkeys(range(1, 29))\n",
    "    for i in range(0, 29):\n",
    "        wt_len_dist[i] = wt_len.count(i)\n",
    "    return wt_len_dist\n",
    "\n",
    "\n",
    "def stLenDist(st):\n",
    "    \"Cümlelerin kelime olarak uzunluk dağılımlarını çıkarır\"\n",
    "    st_len = [len(wordTokenize(sent)) for sent in st]\n",
    "    st_len_dist = dict()\n",
    "    st_len_dist.fromkeys(range(1, 29))\n",
    "    for i in range(0, 29):\n",
    "        st_len_dist[i] = st_len.count(i)\n",
    "    return st_len_dist\n",
    "\n",
    "\n",
    "def typeTokenRatio(wt):\n",
    "    \"\"\"Kelimenin toplam kelime sayısına oranı\"\"\"\n",
    "    return len(set(wt))/len((wt))\n",
    "\n",
    "def avgWtLen(wt):\n",
    "    return sum(len(word) for word in wt)/len(wt)\n",
    "\n",
    "def avgStLen(st):\n",
    "    return sum(len(wordTokenize(sent)) for sent in st)/len(st)\n",
    "\n",
    "def puncNum(txt):\n",
    "    return len([x for x in txt if x in string.punctuation])\n",
    "\n",
    "def numStopwords(clean_text):\n",
    "    return len([w for w in clean_text.split() if w in stopwords])\n",
    "\n",
    "def numUpper(raw_text):\n",
    "    p = string.punctuation + \"’\" + \"“\" + \"”\"\n",
    "    raw_text = ''.join(' ' if c in p else c for c in raw_text)\n",
    "    return len([w for w in raw_text.split() if str(w).isupper()])"
   ]
  },
  {
   "cell_type": "code",
   "execution_count": 16,
   "id": "8fe3a172",
   "metadata": {},
   "outputs": [],
   "source": [
    "data['clean_text'] = data['text'].apply(lambda x : dataCleaning(x))\n",
    "data['word_token'] = data['clean_text'].apply(lambda x : wordTokenize(x))\n",
    "data['sent_token'] = data['text'].apply(lambda x : sentTokenize(x))\n",
    "data['lemma_token'] = data['word_token'].apply(lambda x : lemmas(x))\n",
    "data['ltDist'] = data['lemma_token'].apply(lambda x : wtDist(x))\n",
    "data['wtLenDist'] = data['word_token'].apply(lambda x : wtLenDist(x))\n",
    "data['stLenDist'] = data['sent_token'].apply(lambda x : stLenDist(x))\n",
    "data['ttr'] = data['word_token'].apply(lambda x : typeTokenRatio(x))\n",
    "data['lttr'] = data['lemma_token'].apply(lambda x : typeTokenRatio(x))\n",
    "data['avgWtLen'] = data['word_token'].apply(lambda x : avgWtLen(x))\n",
    "data['avgStLen'] = data['sent_token'].apply(lambda x : avgStLen(x))\n",
    "data['puncNum'] = data['text'].apply(lambda x : puncNum(x))\n",
    "data['numStopwords'] = data['clean_text'].apply(lambda x : numStopwords(x))\n",
    "data['numUpper'] = data['text'].apply(lambda x : numUpper(x))\n",
    "\n",
    "# yazarları tam sayı olarak kodlar\n",
    "data['target'] = pd.factorize(data.title)[0]"
   ]
  },
  {
   "cell_type": "code",
   "execution_count": 17,
   "id": "6fad63a7",
   "metadata": {
    "scrolled": true
   },
   "outputs": [
    {
     "data": {
      "text/html": [
       "<div>\n",
       "<style scoped>\n",
       "    .dataframe tbody tr th:only-of-type {\n",
       "        vertical-align: middle;\n",
       "    }\n",
       "\n",
       "    .dataframe tbody tr th {\n",
       "        vertical-align: top;\n",
       "    }\n",
       "\n",
       "    .dataframe thead th {\n",
       "        text-align: right;\n",
       "    }\n",
       "</style>\n",
       "<table border=\"1\" class=\"dataframe\">\n",
       "  <thead>\n",
       "    <tr style=\"text-align: right;\">\n",
       "      <th></th>\n",
       "      <th>info</th>\n",
       "      <th>title</th>\n",
       "      <th>caption</th>\n",
       "      <th>link</th>\n",
       "      <th>text</th>\n",
       "      <th>clean_text</th>\n",
       "      <th>word_token</th>\n",
       "      <th>sent_token</th>\n",
       "      <th>lemma_token</th>\n",
       "      <th>ltDist</th>\n",
       "      <th>wtLenDist</th>\n",
       "      <th>stLenDist</th>\n",
       "      <th>ttr</th>\n",
       "      <th>lttr</th>\n",
       "      <th>avgWtLen</th>\n",
       "      <th>avgStLen</th>\n",
       "      <th>puncNum</th>\n",
       "      <th>numStopwords</th>\n",
       "      <th>numUpper</th>\n",
       "      <th>target</th>\n",
       "    </tr>\n",
       "  </thead>\n",
       "  <tbody>\n",
       "    <tr>\n",
       "      <th>0</th>\n",
       "      <td>19 Mart 2021, Cuma</td>\n",
       "      <td>MEHMET BARLAS</td>\n",
       "      <td>Türk siyasetinde Devlet Bahçeli bir tutarlılık...</td>\n",
       "      <td>https://www.sabah.com.tr/yazarlar/barlas/2021/...</td>\n",
       "      <td>\\n\\nDün MHP'nin Büyük Kurultay'ında Genel Başk...</td>\n",
       "      <td>dün mhpnin büyük kurultayında genel başkan dev...</td>\n",
       "      <td>[mhpnin, büyük, kurultayında, genel, başkan, d...</td>\n",
       "      <td>[mhpnin büyük kurultayında genel başkan devlet...</td>\n",
       "      <td>[mhp, büyük, kurultay, genel, başkan, devlet, ...</td>\n",
       "      <td>{'kapa': 1, 'ad': 2, 'suikast': 1, 'millet': 3...</td>\n",
       "      <td>{0: 0, 1: 0, 2: 3, 3: 15, 4: 10, 5: 21, 6: 33,...</td>\n",
       "      <td>{0: 0, 1: 1, 2: 3, 3: 2, 4: 2, 5: 1, 6: 2, 7: ...</td>\n",
       "      <td>0.873684</td>\n",
       "      <td>0.710526</td>\n",
       "      <td>7.184211</td>\n",
       "      <td>7.869565</td>\n",
       "      <td>61</td>\n",
       "      <td>57</td>\n",
       "      <td>12</td>\n",
       "      <td>0</td>\n",
       "    </tr>\n",
       "    <tr>\n",
       "      <th>1</th>\n",
       "      <td>18 Mart 2021, Perşembe</td>\n",
       "      <td>MEHMET BARLAS</td>\n",
       "      <td>Amerikan iç politikasında kimin kimi hedef ala...</td>\n",
       "      <td>https://www.sabah.com.tr/yazarlar/barlas/2021/...</td>\n",
       "      <td>\\n\\nAmerikan iç politikasındaki gelişmeler kes...</td>\n",
       "      <td>amerikan iç politikasındaki gelişmeler kesinli...</td>\n",
       "      <td>[amerikan, iç, politikasındaki, gelişmeler, bi...</td>\n",
       "      <td>[amerikan iç politikasındaki gelişmeler bizimk...</td>\n",
       "      <td>[amerikan, iç, politika, geliş, biz, ilgi, çek...</td>\n",
       "      <td>{'biz': 1, 'açıklama': 1, 'bide': 3, 'belir': ...</td>\n",
       "      <td>{0: 0, 1: 2, 2: 6, 3: 12, 4: 30, 5: 48, 6: 36,...</td>\n",
       "      <td>{0: 0, 1: 1, 2: 2, 3: 2, 4: 1, 5: 0, 6: 2, 7: ...</td>\n",
       "      <td>0.826531</td>\n",
       "      <td>0.595238</td>\n",
       "      <td>7.102041</td>\n",
       "      <td>10.000000</td>\n",
       "      <td>76</td>\n",
       "      <td>79</td>\n",
       "      <td>3</td>\n",
       "      <td>0</td>\n",
       "    </tr>\n",
       "    <tr>\n",
       "      <th>2</th>\n",
       "      <td>17 Mart 2021, Çarşamba</td>\n",
       "      <td>MEHMET BARLAS</td>\n",
       "      <td>Amerikalılar, yalancı Amerikan başkanlarını ar...</td>\n",
       "      <td>https://www.sabah.com.tr/yazarlar/barlas/2021/...</td>\n",
       "      <td>\\n\\nBugüne kadar her konuda Yunanistan'ın ve K...</td>\n",
       "      <td>bugüne kadar her konuda yunanistanın ve kıbrıs...</td>\n",
       "      <td>[bugüne, konuda, yunanistanın, kıbrıs, rumları...</td>\n",
       "      <td>[bugüne her konuda yunanistanın kıbrıs rumları...</td>\n",
       "      <td>[bugün, konu, yunanistan, kıbrıs, rum, ol, ame...</td>\n",
       "      <td>{'ad': 1, 'alın': 1, 'çıkar': 1, 'bide': 1, 's...</td>\n",
       "      <td>{0: 0, 1: 0, 2: 6, 3: 8, 4: 13, 5: 26, 6: 25, ...</td>\n",
       "      <td>{0: 0, 1: 0, 2: 2, 3: 1, 4: 5, 5: 4, 6: 1, 7: ...</td>\n",
       "      <td>0.906593</td>\n",
       "      <td>0.681319</td>\n",
       "      <td>7.340659</td>\n",
       "      <td>7.217391</td>\n",
       "      <td>59</td>\n",
       "      <td>61</td>\n",
       "      <td>3</td>\n",
       "      <td>0</td>\n",
       "    </tr>\n",
       "    <tr>\n",
       "      <th>3</th>\n",
       "      <td>16 Mart 2021, Salı</td>\n",
       "      <td>MEHMET BARLAS</td>\n",
       "      <td>Darbeler geçmişte Türkiye’nin dış politikasını...</td>\n",
       "      <td>https://www.sabah.com.tr/yazarlar/barlas/2021/...</td>\n",
       "      <td>\\n\\nMısır'la diplomatik ilişkilerin başlaması,...</td>\n",
       "      <td>mısırla diplomatik ilişkilerin başlaması ülkel...</td>\n",
       "      <td>[mısırla, diplomatik, ilişkilerin, başlaması, ...</td>\n",
       "      <td>[mısırla diplomatik ilişkilerin başlaması ülke...</td>\n",
       "      <td>[mısır, diplomatik, ilişki, başla, ülke, dış, ...</td>\n",
       "      <td>{'alın': 1, 'sahne': 1, 'ilke': 1, 'belir': 1,...</td>\n",
       "      <td>{0: 0, 1: 0, 2: 5, 3: 4, 4: 12, 5: 20, 6: 22, ...</td>\n",
       "      <td>{0: 0, 1: 0, 2: 3, 3: 0, 4: 1, 5: 0, 6: 0, 7: ...</td>\n",
       "      <td>0.810000</td>\n",
       "      <td>0.595000</td>\n",
       "      <td>7.765000</td>\n",
       "      <td>10.263158</td>\n",
       "      <td>56</td>\n",
       "      <td>47</td>\n",
       "      <td>0</td>\n",
       "      <td>0</td>\n",
       "    </tr>\n",
       "    <tr>\n",
       "      <th>4</th>\n",
       "      <td>15 Mart 2021, Pazartesi</td>\n",
       "      <td>MEHMET BARLAS</td>\n",
       "      <td>Müflis Yunanistan, Türkiye’ye gövde gösterisi ...</td>\n",
       "      <td>https://www.sabah.com.tr/yazarlar/barlas/2021/...</td>\n",
       "      <td>\\n\\nTabii ki hiçbir ülkeyi küçük görmemek gere...</td>\n",
       "      <td>tabii ki hiçbir ülkeyi küçük görmemek gerekiyo...</td>\n",
       "      <td>[tabii, hiçbir, ülkeyi, küçük, görmemek, gerek...</td>\n",
       "      <td>[tabii hiçbir ülkeyi küçük görmemek gerekiyor,...</td>\n",
       "      <td>[tabii, hiçbir, ülke, küçük, gör, gerek, bazı,...</td>\n",
       "      <td>{'alın': 1, 'öngör': 1, 'biz': 1, 'açıklama': ...</td>\n",
       "      <td>{0: 0, 1: 7, 2: 6, 3: 11, 4: 26, 5: 47, 6: 26,...</td>\n",
       "      <td>{0: 0, 1: 0, 2: 2, 3: 1, 4: 3, 5: 1, 6: 1, 7: ...</td>\n",
       "      <td>0.800000</td>\n",
       "      <td>0.608000</td>\n",
       "      <td>6.936000</td>\n",
       "      <td>11.523810</td>\n",
       "      <td>67</td>\n",
       "      <td>56</td>\n",
       "      <td>12</td>\n",
       "      <td>0</td>\n",
       "    </tr>\n",
       "  </tbody>\n",
       "</table>\n",
       "</div>"
      ],
      "text/plain": [
       "                      info          title  \\\n",
       "0       19 Mart 2021, Cuma  MEHMET BARLAS   \n",
       "1   18 Mart 2021, Perşembe  MEHMET BARLAS   \n",
       "2   17 Mart 2021, Çarşamba  MEHMET BARLAS   \n",
       "3       16 Mart 2021, Salı  MEHMET BARLAS   \n",
       "4  15 Mart 2021, Pazartesi  MEHMET BARLAS   \n",
       "\n",
       "                                             caption  \\\n",
       "0  Türk siyasetinde Devlet Bahçeli bir tutarlılık...   \n",
       "1  Amerikan iç politikasında kimin kimi hedef ala...   \n",
       "2  Amerikalılar, yalancı Amerikan başkanlarını ar...   \n",
       "3  Darbeler geçmişte Türkiye’nin dış politikasını...   \n",
       "4  Müflis Yunanistan, Türkiye’ye gövde gösterisi ...   \n",
       "\n",
       "                                                link  \\\n",
       "0  https://www.sabah.com.tr/yazarlar/barlas/2021/...   \n",
       "1  https://www.sabah.com.tr/yazarlar/barlas/2021/...   \n",
       "2  https://www.sabah.com.tr/yazarlar/barlas/2021/...   \n",
       "3  https://www.sabah.com.tr/yazarlar/barlas/2021/...   \n",
       "4  https://www.sabah.com.tr/yazarlar/barlas/2021/...   \n",
       "\n",
       "                                                text  \\\n",
       "0  \\n\\nDün MHP'nin Büyük Kurultay'ında Genel Başk...   \n",
       "1  \\n\\nAmerikan iç politikasındaki gelişmeler kes...   \n",
       "2  \\n\\nBugüne kadar her konuda Yunanistan'ın ve K...   \n",
       "3  \\n\\nMısır'la diplomatik ilişkilerin başlaması,...   \n",
       "4  \\n\\nTabii ki hiçbir ülkeyi küçük görmemek gere...   \n",
       "\n",
       "                                          clean_text  \\\n",
       "0  dün mhpnin büyük kurultayında genel başkan dev...   \n",
       "1  amerikan iç politikasındaki gelişmeler kesinli...   \n",
       "2  bugüne kadar her konuda yunanistanın ve kıbrıs...   \n",
       "3  mısırla diplomatik ilişkilerin başlaması ülkel...   \n",
       "4  tabii ki hiçbir ülkeyi küçük görmemek gerekiyo...   \n",
       "\n",
       "                                          word_token  \\\n",
       "0  [mhpnin, büyük, kurultayında, genel, başkan, d...   \n",
       "1  [amerikan, iç, politikasındaki, gelişmeler, bi...   \n",
       "2  [bugüne, konuda, yunanistanın, kıbrıs, rumları...   \n",
       "3  [mısırla, diplomatik, ilişkilerin, başlaması, ...   \n",
       "4  [tabii, hiçbir, ülkeyi, küçük, görmemek, gerek...   \n",
       "\n",
       "                                          sent_token  \\\n",
       "0  [mhpnin büyük kurultayında genel başkan devlet...   \n",
       "1  [amerikan iç politikasındaki gelişmeler bizimk...   \n",
       "2  [bugüne her konuda yunanistanın kıbrıs rumları...   \n",
       "3  [mısırla diplomatik ilişkilerin başlaması ülke...   \n",
       "4  [tabii hiçbir ülkeyi küçük görmemek gerekiyor,...   \n",
       "\n",
       "                                         lemma_token  \\\n",
       "0  [mhp, büyük, kurultay, genel, başkan, devlet, ...   \n",
       "1  [amerikan, iç, politika, geliş, biz, ilgi, çek...   \n",
       "2  [bugün, konu, yunanistan, kıbrıs, rum, ol, ame...   \n",
       "3  [mısır, diplomatik, ilişki, başla, ülke, dış, ...   \n",
       "4  [tabii, hiçbir, ülke, küçük, gör, gerek, bazı,...   \n",
       "\n",
       "                                              ltDist  \\\n",
       "0  {'kapa': 1, 'ad': 2, 'suikast': 1, 'millet': 3...   \n",
       "1  {'biz': 1, 'açıklama': 1, 'bide': 3, 'belir': ...   \n",
       "2  {'ad': 1, 'alın': 1, 'çıkar': 1, 'bide': 1, 's...   \n",
       "3  {'alın': 1, 'sahne': 1, 'ilke': 1, 'belir': 1,...   \n",
       "4  {'alın': 1, 'öngör': 1, 'biz': 1, 'açıklama': ...   \n",
       "\n",
       "                                           wtLenDist  \\\n",
       "0  {0: 0, 1: 0, 2: 3, 3: 15, 4: 10, 5: 21, 6: 33,...   \n",
       "1  {0: 0, 1: 2, 2: 6, 3: 12, 4: 30, 5: 48, 6: 36,...   \n",
       "2  {0: 0, 1: 0, 2: 6, 3: 8, 4: 13, 5: 26, 6: 25, ...   \n",
       "3  {0: 0, 1: 0, 2: 5, 3: 4, 4: 12, 5: 20, 6: 22, ...   \n",
       "4  {0: 0, 1: 7, 2: 6, 3: 11, 4: 26, 5: 47, 6: 26,...   \n",
       "\n",
       "                                           stLenDist       ttr      lttr  \\\n",
       "0  {0: 0, 1: 1, 2: 3, 3: 2, 4: 2, 5: 1, 6: 2, 7: ...  0.873684  0.710526   \n",
       "1  {0: 0, 1: 1, 2: 2, 3: 2, 4: 1, 5: 0, 6: 2, 7: ...  0.826531  0.595238   \n",
       "2  {0: 0, 1: 0, 2: 2, 3: 1, 4: 5, 5: 4, 6: 1, 7: ...  0.906593  0.681319   \n",
       "3  {0: 0, 1: 0, 2: 3, 3: 0, 4: 1, 5: 0, 6: 0, 7: ...  0.810000  0.595000   \n",
       "4  {0: 0, 1: 0, 2: 2, 3: 1, 4: 3, 5: 1, 6: 1, 7: ...  0.800000  0.608000   \n",
       "\n",
       "   avgWtLen   avgStLen  puncNum  numStopwords  numUpper  target  \n",
       "0  7.184211   7.869565       61            57        12       0  \n",
       "1  7.102041  10.000000       76            79         3       0  \n",
       "2  7.340659   7.217391       59            61         3       0  \n",
       "3  7.765000  10.263158       56            47         0       0  \n",
       "4  6.936000  11.523810       67            56        12       0  "
      ]
     },
     "execution_count": 17,
     "metadata": {},
     "output_type": "execute_result"
    }
   ],
   "source": [
    "data.head()"
   ]
  },
  {
   "cell_type": "code",
   "execution_count": 18,
   "id": "12cfb134",
   "metadata": {},
   "outputs": [],
   "source": [
    "data.to_csv('clean_data')"
   ]
  },
  {
   "cell_type": "code",
   "execution_count": 19,
   "id": "ac954e7b",
   "metadata": {},
   "outputs": [
    {
     "data": {
      "image/png": "[encoded data removed]",
      "text/plain": [
       "<Figure size 432x288 with 1 Axes>"
      ]
     },
     "metadata": {
      "needs_background": "light"
     },
     "output_type": "display_data"
    }
   ],
   "source": [
    "from wordcloud import WordCloud\n",
    "import matplotlib.pyplot as plt\n",
    "word_cloud = WordCloud(\n",
    "    max_font_size = 80\n",
    ").generate(\n",
    "    \" \".join(\n",
    "        \" \".join(lemma) for lemma in data[data.title == \"BERCAN TUTAR\"][\"lemma_token\"])\n",
    ")\n",
    "\n",
    "plt.imshow(word_cloud)\n",
    "plt.axis('off')\n",
    "plt.show()"
   ]
  },
  {
   "cell_type": "code",
   "execution_count": 20,
   "id": "f2bf00ad",
   "metadata": {},
   "outputs": [],
   "source": [
    "#normalizasyon\n",
    "from sklearn.preprocessing import MinMaxScaler\n",
    "\n",
    "scaler = MinMaxScaler()\n",
    "normalizedLabels = scaler.fit_transform(data.loc[:, 'lttr':'numUpper'])"
   ]
  },
  {
   "cell_type": "code",
   "execution_count": 21,
   "id": "1e5bd1f6",
   "metadata": {},
   "outputs": [
    {
     "data": {
      "text/plain": [
       "array([[0.75809658, 0.53700115, 0.21418013, 0.07073955, 0.065     ,\n",
       "        0.10526316],\n",
       "       [0.53100357, 0.51344239, 0.29660023, 0.09485531, 0.10166667,\n",
       "        0.02631579],\n",
       "       [0.70056382, 0.58185636, 0.18894949, 0.06752412, 0.07166667,\n",
       "        0.02631579],\n",
       "       ...,\n",
       "       [0.5987475 , 0.39923572, 0.20188382, 0.04501608, 0.15333333,\n",
       "        0.02631579],\n",
       "       [0.58483779, 0.47972402, 0.26981694, 0.05948553, 0.125     ,\n",
       "        0.04385965],\n",
       "       [0.64692533, 0.46164643, 0.3242338 , 0.06913183, 0.12      ,\n",
       "        0.05263158]])"
      ]
     },
     "execution_count": 21,
     "metadata": {},
     "output_type": "execute_result"
    }
   ],
   "source": [
    "normalizedLabels"
   ]
  },
  {
   "cell_type": "code",
   "execution_count": 22,
   "id": "868bb942",
   "metadata": {},
   "outputs": [],
   "source": [
    "from sklearn.feature_extraction.text import TfidfVectorizer, TfidfTransformer, CountVectorizer\n",
    "from sklearn.feature_extraction import DictVectorizer"
   ]
  },
  {
   "cell_type": "code",
   "execution_count": 23,
   "id": "08af817d",
   "metadata": {},
   "outputs": [],
   "source": [
    "x = np.array(data.lemma_token)\n",
    "for i in range(0, len(data.lemma_token)):\n",
    "    x[i] = \" \".join(data.lemma_token[i])"
   ]
  },
  {
   "cell_type": "code",
   "execution_count": 24,
   "id": "08af9c48",
   "metadata": {},
   "outputs": [],
   "source": [
    "count_vectorize = CountVectorizer()\n",
    "sparce_matrix = count_vectorize.fit_transform(x).toarray()\n",
    "sparce_matrix = (sparce_matrix - sparce_matrix.min())/(sparce_matrix.max() - sparce_matrix.min())"
   ]
  },
  {
   "cell_type": "code",
   "execution_count": 25,
   "id": "87d273f5",
   "metadata": {},
   "outputs": [],
   "source": [
    "tfidf_vector = TfidfVectorizer()\n",
    "tfidf_matrix = tfidf_vector.fit_transform(x).toarray()"
   ]
  },
  {
   "cell_type": "code",
   "execution_count": 26,
   "id": "7c7e023c",
   "metadata": {},
   "outputs": [],
   "source": [
    "ngram_tfidf_vector = TfidfVectorizer(lowercase=False, ngram_range=(3,5), min_df= 3, max_df=0.5)\n",
    "ngram_tfidf_matrix = tfidf_vector.fit_transform(x).toarray()"
   ]
  },
  {
   "cell_type": "code",
   "execution_count": 27,
   "id": "414b0a55",
   "metadata": {},
   "outputs": [],
   "source": [
    "dict_vector = DictVectorizer()\n",
    "wtLenDist_matrix = dict_vector.fit_transform(data.wtLenDist).toarray()\n",
    "stLenDist_matrix = dict_vector.fit_transform(data.stLenDist).toarray()\n",
    "wtLenDist_matrix = (wtLenDist_matrix - wtLenDist_matrix.min())/(wtLenDist_matrix.max() - wtLenDist_matrix.min())\n",
    "stLenDist_matrix = (stLenDist_matrix - stLenDist_matrix.min())/(stLenDist_matrix.max() - stLenDist_matrix.min())"
   ]
  },
  {
   "cell_type": "code",
   "execution_count": 28,
   "id": "e72ac9cf",
   "metadata": {},
   "outputs": [],
   "source": [
    "attribution = (ngram_tfidf_matrix, sparce_matrix, wtLenDist_matrix, stLenDist_matrix, normalizedLabels) \n",
    "attribution = np.concatenate(attribution, axis = 1)"
   ]
  },
  {
   "cell_type": "code",
   "execution_count": 29,
   "id": "c127ec55",
   "metadata": {},
   "outputs": [],
   "source": [
    "y = np.array(data.target)\n",
    "x = attribution"
   ]
  },
  {
   "cell_type": "code",
   "execution_count": 30,
   "id": "cb68c334",
   "metadata": {},
   "outputs": [],
   "source": [
    "from sklearn.model_selection import train_test_split\n",
    "X_train, X_test, y_train, y_test = train_test_split(x, y, test_size=0.33,random_state = 42)"
   ]
  },
  {
   "cell_type": "code",
   "execution_count": 31,
   "id": "a2ba59d8",
   "metadata": {},
   "outputs": [
    {
     "data": {
      "text/plain": [
       "((1398, 37414), (689, 37414))"
      ]
     },
     "execution_count": 31,
     "metadata": {},
     "output_type": "execute_result"
    }
   ],
   "source": [
    "X_train.shape, X_test.shape"
   ]
  },
  {
   "cell_type": "markdown",
   "id": "e6b4453b",
   "metadata": {},
   "source": [
    "**SVM default parameters:**\n",
    "\n",
    "    C = 1.0\n",
    "    kernel = rbf\n",
    "    degree = 3\n",
    "    gamma = scale\n",
    "    coef0 = 0.0\n",
    "    shrinking = True\n",
    "    probability = False\n",
    "    tol = 1e-3\n",
    "    cache_size = 200\n",
    "    class_weight = None\n",
    "    verbose = False\n",
    "    max_iter = 1\n",
    "    decision_function_shape = ovr\n",
    "    break_tiles = False\n",
    "    random_state = None"
   ]
  },
  {
   "cell_type": "code",
   "execution_count": 32,
   "id": "f0200086",
   "metadata": {},
   "outputs": [
    {
     "name": "stdout",
     "output_type": "stream",
     "text": [
      "Support Vector Machine Classifier has fitted, this process took 85.57 seconds\n",
      "Accuracy = %57.47460087082729\n"
     ]
    }
   ],
   "source": [
    "import time\n",
    "from sklearn.svm import SVC\n",
    "from sklearn import metrics\n",
    "\n",
    "#sss = StratifiedShuffleSplit(n_splits=5, random_state=42)\n",
    "svm_classifier = SVC()\n",
    "\n",
    "start = time.time() \n",
    "svm_classifier.fit(X_train,y_train)\n",
    "#result = cross_val_score(svm_classifier, x, y, cv = sss)\n",
    "end = time.time()\n",
    "\n",
    "process = round(end-start,2)\n",
    "print(\"Support Vector Machine Classifier has fitted, this process took {} seconds\".format(process))\n",
    "#print(\"Avg accuracy: {}\".format(result.mean()))\n",
    "\n",
    "\n",
    "pred_svm = svm_classifier.predict(X_test)\n",
    "ACC_svm = metrics.accuracy_score(y_test,pred_svm)    \n",
    "print(\"Accuracy = %\"+ str(ACC_svm*100))"
   ]
  },
  {
   "cell_type": "code",
   "execution_count": 33,
   "id": "793a22dd",
   "metadata": {},
   "outputs": [],
   "source": [
    "from scipy.stats import randint\n",
    "from sklearn.experimental import enable_halving_search_cv\n",
    "from sklearn.model_selection import StratifiedShuffleSplit\n",
    "from sklearn.utils.fixes import loguniform\n",
    "from sklearn.model_selection import RandomizedSearchCV"
   ]
  },
  {
   "cell_type": "code",
   "execution_count": 34,
   "id": "52091bd0",
   "metadata": {},
   "outputs": [],
   "source": [
    "rng = np.random.RandomState(0)\n",
    "\n",
    "tuned_parameters = [{'kernel': ['rbf'],\n",
    "                     'C': loguniform(1e0, 1e3),\n",
    "                     'gamma': loguniform(1e-4, 1e-2),\n",
    "                     'class_weight':['balanced', None]},\n",
    "                    {'kernel': ['linear'], \n",
    "                     'C': loguniform(1e0, 1e3)},\n",
    "                    {'kernel': ['poly'],\n",
    "                     'gamma': loguniform(1e-4, 1e-2),\n",
    "                     'degree' : [2, 3, 4],\n",
    "                     'C': loguniform(1e0, 1e3)},\n",
    "                    {'kernel': ['sigmoid'],\n",
    "                     'gamma': loguniform(1e-4, 1e-2),\n",
    "                     'C': loguniform(1e0, 1e3)}]\n",
    "\n",
    "rsc = RandomizedSearchCV(\n",
    "        estimator=svm_classifier,\n",
    "        param_distributions=tuned_parameters,\n",
    "        n_iter = 30,\n",
    "        cv=10,\n",
    "        random_state=rng).fit(x, y)"
   ]
  },
  {
   "cell_type": "code",
   "execution_count": 35,
   "id": "2c57b208",
   "metadata": {},
   "outputs": [
    {
     "name": "stdout",
     "output_type": "stream",
     "text": [
      "The best parameters are {'C': 216.00820741402038, 'kernel': 'linear'} with a score of 0.85\n"
     ]
    }
   ],
   "source": [
    "print(\n",
    "    \"The best parameters are %s with a score of %0.2f\"\n",
    "    % (rsc.best_params_, rsc.best_score_)\n",
    ")"
   ]
  },
  {
   "cell_type": "markdown",
   "id": "17d4c43b",
   "metadata": {},
   "source": [
    "**MLP default parameters:**\n",
    "\n",
    "    hidden_layer_sizes=(100,)\n",
    "    activation='relu'\n",
    "    solver='adam'\n",
    "    alpha=0.0001\n",
    "    batch_size='auto'\n",
    "    learning_rate='constant'\n",
    "    learning_rate_init=0.001\n",
    "    power_t=0.5\n",
    "    max_iter=200\n",
    "    shuffle=True\n",
    "    random_state=None\n",
    "    tol=0.0001\n",
    "    verbose=False\n",
    "    warm_start=False\n",
    "    momentum=0.9\n",
    "    nesterovs_momentum=True\n",
    "    early_stopping=False\n",
    "    validation_fraction=0.1\n",
    "    beta_1=0.9\n",
    "    beta_2=0.999\n",
    "    epsilon=1e-08\n",
    "    n_iter_no_change=10\n",
    "    max_fun=15000"
   ]
  },
  {
   "cell_type": "code",
   "execution_count": 36,
   "id": "cd5ced95",
   "metadata": {},
   "outputs": [
    {
     "name": "stdout",
     "output_type": "stream",
     "text": [
      "Accuracy = %76.19738751814224\n"
     ]
    }
   ],
   "source": [
    "from sklearn.neural_network import MLPClassifier\n",
    "\n",
    "mlp_classifier = MLPClassifier(random_state=42)\n",
    "mlp_classifier.fit(X_train,y_train)\n",
    "\n",
    "pred_mlp = mlp_classifier.predict(X_test)\n",
    "ACC_mlp = metrics.accuracy_score(y_test, pred_mlp)\n",
    "print(\"Accuracy = %\"+ str(ACC_mlp*100))"
   ]
  },
  {
   "cell_type": "code",
   "execution_count": null,
   "id": "acd17b5a",
   "metadata": {},
   "outputs": [],
   "source": []
  },
  {
   "cell_type": "code",
   "execution_count": null,
   "id": "819afc32",
   "metadata": {},
   "outputs": [],
   "source": []
  },
  {
   "cell_type": "code",
   "execution_count": 37,
   "id": "a0d70502",
   "metadata": {},
   "outputs": [],
   "source": [
    "import tensorflow as tf\n",
    "x_train, x_test = X_train.reshape(-1, 1, 37414), X_test.reshape(-1, 1, 37414)"
   ]
  },
  {
   "cell_type": "code",
   "execution_count": 38,
   "id": "1560dd93",
   "metadata": {},
   "outputs": [],
   "source": [
    "from tensorflow.keras.models import Sequential\n",
    "from tensorflow.keras.layers import Dense, LSTM, Dropout, Embedding, SpatialDropout1D\n",
    "from tensorflow.keras.optimizers import Adam\n",
    "from keras.callbacks import EarlyStopping\n",
    "\n",
    "\n",
    "model=Sequential()\n",
    "\n",
    "model.add(SpatialDropout1D(0.4))\n",
    "model.add(LSTM(256, activation='relu', dropout=0.2, recurrent_dropout=0.2, return_sequences=True))\n",
    "model.add(LSTM(128, activation='relu', dropout=0.2, recurrent_dropout=0.2, return_sequences=True))\n",
    "model.add(LSTM(128, activation='relu', dropout=0.2, recurrent_dropout=0.2, return_sequences=True))\n",
    "model.add(LSTM(74, activation='relu', dropout=0.2, recurrent_dropout=0.2))\n",
    "model.add(Dense(len(data.title.unique()), activation='softmax'))"
   ]
  },
  {
   "cell_type": "code",
   "execution_count": 39,
   "id": "36496aba",
   "metadata": {},
   "outputs": [],
   "source": [
    "model.compile(optimizer=Adam(),\n",
    "              loss='sparse_categorical_crossentropy',\n",
    "              metrics=['accuracy'])\n",
    "\n",
    "#Adding an early stopping\n",
    "es = EarlyStopping(monitor='val_accuracy', \n",
    "                   mode='max', \n",
    "                   patience=10, #Stop the model training if the validation accuracy doesnt increase in 10 consecutive Epochs\n",
    "                   restore_best_weights=True)\n"
   ]
  },
  {
   "cell_type": "code",
   "execution_count": 40,
   "id": "5e96f94f",
   "metadata": {
    "scrolled": true
   },
   "outputs": [
    {
     "name": "stdout",
     "output_type": "stream",
     "text": [
      "Epoch 1/100\n",
      "44/44 [==============================] - 37s 472ms/step - loss: 4.6920 - accuracy: 0.0086 - val_loss: 4.6929 - val_accuracy: 0.0029\n",
      "Epoch 2/100\n",
      "44/44 [==============================] - 18s 418ms/step - loss: 4.6908 - accuracy: 0.0122 - val_loss: 4.6941 - val_accuracy: 0.0029\n",
      "Epoch 3/100\n",
      "44/44 [==============================] - 18s 416ms/step - loss: 4.6900 - accuracy: 0.0136 - val_loss: 4.6954 - val_accuracy: 0.0029\n",
      "Epoch 4/100\n",
      "44/44 [==============================] - 18s 417ms/step - loss: 4.6836 - accuracy: 0.0150 - val_loss: 4.6687 - val_accuracy: 0.0058\n",
      "Epoch 5/100\n",
      "44/44 [==============================] - 18s 411ms/step - loss: 4.5600 - accuracy: 0.0086 - val_loss: 4.5470 - val_accuracy: 0.0058\n",
      "Epoch 6/100\n",
      "44/44 [==============================] - 18s 416ms/step - loss: 4.4183 - accuracy: 0.0179 - val_loss: 4.5018 - val_accuracy: 0.0203\n",
      "Epoch 7/100\n",
      "44/44 [==============================] - 18s 418ms/step - loss: 4.2449 - accuracy: 0.0308 - val_loss: 4.2976 - val_accuracy: 0.0334\n",
      "Epoch 8/100\n",
      "44/44 [==============================] - 18s 420ms/step - loss: 3.9002 - accuracy: 0.0544 - val_loss: 3.9810 - val_accuracy: 0.0595\n",
      "Epoch 9/100\n",
      "44/44 [==============================] - 18s 416ms/step - loss: 3.5203 - accuracy: 0.0901 - val_loss: 3.7331 - val_accuracy: 0.0798\n",
      "Epoch 10/100\n",
      "44/44 [==============================] - 18s 415ms/step - loss: 3.2394 - accuracy: 0.1001 - val_loss: 3.6202 - val_accuracy: 0.1219\n",
      "Epoch 11/100\n",
      "44/44 [==============================] - 18s 417ms/step - loss: 3.0155 - accuracy: 0.1395 - val_loss: 3.5633 - val_accuracy: 0.1074\n",
      "Epoch 12/100\n",
      "44/44 [==============================] - 18s 418ms/step - loss: 2.8056 - accuracy: 0.1681 - val_loss: 3.5292 - val_accuracy: 0.1321\n",
      "Epoch 13/100\n",
      "44/44 [==============================] - 18s 411ms/step - loss: 2.7462 - accuracy: 0.1938 - val_loss: 3.3999 - val_accuracy: 0.1567\n",
      "Epoch 14/100\n",
      "44/44 [==============================] - 18s 405ms/step - loss: 2.5659 - accuracy: 0.2160 - val_loss: 3.4287 - val_accuracy: 0.1756\n",
      "Epoch 15/100\n",
      "44/44 [==============================] - 18s 420ms/step - loss: 2.3383 - accuracy: 0.2768 - val_loss: 3.4378 - val_accuracy: 0.1785\n",
      "Epoch 16/100\n",
      "44/44 [==============================] - 18s 421ms/step - loss: 2.1927 - accuracy: 0.3097 - val_loss: 3.3129 - val_accuracy: 0.1858\n",
      "Epoch 17/100\n",
      "44/44 [==============================] - 17s 397ms/step - loss: 2.1059 - accuracy: 0.3369 - val_loss: 3.4883 - val_accuracy: 0.1930\n",
      "Epoch 18/100\n",
      "44/44 [==============================] - 17s 398ms/step - loss: 1.9520 - accuracy: 0.3655 - val_loss: 3.2829 - val_accuracy: 0.2192\n",
      "Epoch 19/100\n",
      "44/44 [==============================] - 17s 396ms/step - loss: 1.7950 - accuracy: 0.4213 - val_loss: 3.4181 - val_accuracy: 0.2293\n",
      "Epoch 20/100\n",
      "44/44 [==============================] - 17s 397ms/step - loss: 1.6401 - accuracy: 0.4542 - val_loss: 3.6704 - val_accuracy: 0.2017\n",
      "Epoch 21/100\n",
      "44/44 [==============================] - 17s 394ms/step - loss: 1.6418 - accuracy: 0.4535 - val_loss: 3.5362 - val_accuracy: 0.2046\n",
      "Epoch 22/100\n",
      "44/44 [==============================] - 17s 398ms/step - loss: 1.5613 - accuracy: 0.4742 - val_loss: 3.5476 - val_accuracy: 0.2380\n",
      "Epoch 23/100\n",
      "44/44 [==============================] - 17s 395ms/step - loss: 1.4879 - accuracy: 0.4814 - val_loss: 3.6541 - val_accuracy: 0.2235\n",
      "Epoch 24/100\n",
      "44/44 [==============================] - 18s 401ms/step - loss: 1.4702 - accuracy: 0.4871 - val_loss: 3.6086 - val_accuracy: 0.2337\n",
      "Epoch 25/100\n",
      "44/44 [==============================] - 17s 398ms/step - loss: 1.3393 - accuracy: 0.5215 - val_loss: 3.6287 - val_accuracy: 0.2729\n",
      "Epoch 26/100\n",
      "44/44 [==============================] - 17s 398ms/step - loss: 1.2751 - accuracy: 0.5379 - val_loss: 4.0131 - val_accuracy: 0.2482\n",
      "Epoch 27/100\n",
      "44/44 [==============================] - 18s 399ms/step - loss: 1.2160 - accuracy: 0.5873 - val_loss: 3.9783 - val_accuracy: 0.2525\n",
      "Epoch 28/100\n",
      "44/44 [==============================] - 17s 395ms/step - loss: 1.2049 - accuracy: 0.5887 - val_loss: 3.7750 - val_accuracy: 0.2496\n",
      "Epoch 29/100\n",
      "44/44 [==============================] - 17s 396ms/step - loss: 1.1635 - accuracy: 0.5844 - val_loss: 3.9809 - val_accuracy: 0.2438\n",
      "Epoch 30/100\n",
      "44/44 [==============================] - 17s 396ms/step - loss: 1.0572 - accuracy: 0.6266 - val_loss: 4.2749 - val_accuracy: 0.2424\n",
      "Epoch 31/100\n",
      "44/44 [==============================] - 17s 397ms/step - loss: 1.0187 - accuracy: 0.6531 - val_loss: 4.0812 - val_accuracy: 0.2743\n",
      "Epoch 32/100\n",
      "44/44 [==============================] - 17s 396ms/step - loss: 0.9600 - accuracy: 0.6781 - val_loss: 4.1783 - val_accuracy: 0.2569\n",
      "Epoch 33/100\n",
      "44/44 [==============================] - 17s 396ms/step - loss: 0.9036 - accuracy: 0.6903 - val_loss: 4.2619 - val_accuracy: 0.2612\n",
      "Epoch 34/100\n",
      "44/44 [==============================] - 18s 400ms/step - loss: 0.8575 - accuracy: 0.7017 - val_loss: 4.3145 - val_accuracy: 0.3004\n",
      "Epoch 35/100\n",
      "44/44 [==============================] - 18s 416ms/step - loss: 0.8629 - accuracy: 0.7089 - val_loss: 4.3845 - val_accuracy: 0.2729\n",
      "Epoch 36/100\n",
      "44/44 [==============================] - 17s 386ms/step - loss: 0.8328 - accuracy: 0.6960 - val_loss: 4.1861 - val_accuracy: 0.2758\n",
      "Epoch 37/100\n",
      "44/44 [==============================] - 18s 406ms/step - loss: 0.7833 - accuracy: 0.7346 - val_loss: 4.3047 - val_accuracy: 0.2859\n",
      "Epoch 38/100\n",
      "44/44 [==============================] - 17s 387ms/step - loss: 0.7465 - accuracy: 0.7432 - val_loss: 4.4155 - val_accuracy: 0.2859\n",
      "Epoch 39/100\n",
      "44/44 [==============================] - 17s 387ms/step - loss: 0.7594 - accuracy: 0.7403 - val_loss: 4.6559 - val_accuracy: 0.2729\n",
      "Epoch 40/100\n",
      "44/44 [==============================] - 17s 388ms/step - loss: 0.7264 - accuracy: 0.7418 - val_loss: 4.6513 - val_accuracy: 0.2743\n",
      "Epoch 41/100\n",
      "44/44 [==============================] - 17s 387ms/step - loss: 0.6879 - accuracy: 0.7554 - val_loss: 4.5373 - val_accuracy: 0.2874\n",
      "Epoch 42/100\n",
      "44/44 [==============================] - 18s 404ms/step - loss: 0.6507 - accuracy: 0.7847 - val_loss: 4.6106 - val_accuracy: 0.2859\n",
      "Epoch 43/100\n",
      "44/44 [==============================] - 18s 403ms/step - loss: 0.5812 - accuracy: 0.8019 - val_loss: 4.7824 - val_accuracy: 0.2990\n",
      "Epoch 44/100\n",
      "44/44 [==============================] - 18s 407ms/step - loss: 0.5692 - accuracy: 0.8047 - val_loss: 4.6875 - val_accuracy: 0.2932\n"
     ]
    }
   ],
   "source": [
    "history = model.fit(x_train, y_train, batch_size=32, epochs=100, callbacks=[es], validation_data=(x_test, y_test))"
   ]
  },
  {
   "cell_type": "code",
   "execution_count": 41,
   "id": "ccda8b25",
   "metadata": {},
   "outputs": [
    {
     "name": "stdout",
     "output_type": "stream",
     "text": [
      "Model: \"sequential\"\n",
      "_________________________________________________________________\n",
      " Layer (type)                Output Shape              Param #   \n",
      "=================================================================\n",
      " spatial_dropout1d (SpatialD  (None, 1, 37414)         0         \n",
      " ropout1D)                                                       \n",
      "                                                                 \n",
      " lstm (LSTM)                 (None, 1, 256)            38575104  \n",
      "                                                                 \n",
      " lstm_1 (LSTM)               (None, 1, 128)            197120    \n",
      "                                                                 \n",
      " lstm_2 (LSTM)               (None, 1, 128)            131584    \n",
      "                                                                 \n",
      " lstm_3 (LSTM)               (None, 74)                60088     \n",
      "                                                                 \n",
      " dense (Dense)               (None, 109)               8175      \n",
      "                                                                 \n",
      "=================================================================\n",
      "Total params: 38,972,071\n",
      "Trainable params: 38,972,071\n",
      "Non-trainable params: 0\n",
      "_________________________________________________________________\n"
     ]
    }
   ],
   "source": [
    "model.summary()"
   ]
  },
  {
   "cell_type": "code",
   "execution_count": 42,
   "id": "2f8a1949",
   "metadata": {},
   "outputs": [
    {
     "name": "stdout",
     "output_type": "stream",
     "text": [
      "22/22 [==============================] - 2s 88ms/step - loss: 4.3145 - accuracy: 0.3004\n"
     ]
    },
    {
     "data": {
      "text/plain": [
       "[4.314548969268799, 0.3004354238510132]"
      ]
     },
     "execution_count": 42,
     "metadata": {},
     "output_type": "execute_result"
    }
   ],
   "source": [
    "model.evaluate(x_test, y_test)"
   ]
  },
  {
   "cell_type": "code",
   "execution_count": 43,
   "id": "dfafd39a",
   "metadata": {},
   "outputs": [
    {
     "data": {
      "image/png": "[encoded data removed]",
      "text/plain": [
       "<Figure size 432x288 with 1 Axes>"
      ]
     },
     "metadata": {
      "needs_background": "light"
     },
     "output_type": "display_data"
    }
   ],
   "source": [
    "for i in ['accuracy']:\n",
    "    acc = history.history[i]\n",
    "    val_acc = history.history['val_{}'.format(i)]\n",
    "    epochs = range(1, len(acc) + 1)\n",
    "\n",
    "    plt.figure()\n",
    "    plt.plot(epochs, acc, label='Training Accuracy')\n",
    "    plt.plot(epochs, val_acc, label='Validation Accuracy')\n",
    "    plt.title('Results for {}'.format(i))\n",
    "    plt.legend()\n",
    "    plt.show()"
   ]
  },
  {
   "cell_type": "markdown",
   "id": "c29068fb",
   "metadata": {},
   "source": [
    "Taguchi"
   ]
  },
  {
   "cell_type": "code",
   "execution_count": null,
   "id": "07d22450",
   "metadata": {},
   "outputs": [],
   "source": []
  },
  {
   "cell_type": "code",
   "execution_count": null,
   "id": "92e5e476",
   "metadata": {},
   "outputs": [],
   "source": []
  },
  {
   "cell_type": "code",
   "execution_count": null,
   "id": "190351ef",
   "metadata": {},
   "outputs": [],
   "source": []
  },
  {
   "cell_type": "code",
   "execution_count": null,
   "id": "63c4f349",
   "metadata": {},
   "outputs": [],
   "source": []
  }
 ],
 "metadata": {
  "kernelspec": {
   "display_name": "Python 3 (ipykernel)",
   "language": "python",
   "name": "python3"
  },
  "language_info": {
   "codemirror_mode": {
    "name": "ipython",
    "version": 3
   },
   "file_extension": ".py",
   "mimetype": "text/x-python",
   "name": "python",
   "nbconvert_exporter": "python",
   "pygments_lexer": "ipython3",
   "version": "3.9.7"
  }
 },
 "nbformat": 4,
 "nbformat_minor": 5
}
